{
 "cells": [
  {
   "cell_type": "code",
   "execution_count": 6,
   "id": "b9cce6e4",
   "metadata": {},
   "outputs": [],
   "source": [
    "import os\n",
    "import glob\n",
    "import numpy as np\n",
    "import re\n",
    "import matplotlib.pyplot as plt\n",
    "\n",
    "# Find alle CSV-filer i mappen\n",
    "curve_paths = glob.glob(\"../data/PC roteret/*.csv\")\n",
    "\n",
    "# Indlæs alle kurver\n",
    "aligned_curves = [np.loadtxt(path, delimiter=\",\") for path in curve_paths]\n",
    "\n",
    "\n",
    "def translate_filename(filename):\n",
    "    \"\"\"\n",
    "    Oversætter 'Rør10Kurve3.csv' → 'Pipe 10 – Curve 3'\n",
    "    \"\"\"\n",
    "    match = re.search(r\"Rør(\\d+)Kurve(\\d+)\", filename)\n",
    "    if match:\n",
    "        pipe_num = match.group(1)\n",
    "        curve_num = match.group(2)\n",
    "        return f\"Pipe {pipe_num} – Curve {curve_num}\"\n",
    "    else:\n",
    "        return filename  # fallback hvis ikke formatet matcher\n",
    "labels = [translate_filename(os.path.basename(p).replace(\"_PC\", \"\")) for p in curve_paths]\n",
    "%matplotlib qt"
   ]
  },
  {
   "cell_type": "markdown",
   "id": "27516cba",
   "metadata": {},
   "source": [
    "# Længde"
   ]
  },
  {
   "cell_type": "code",
   "execution_count": 7,
   "id": "2bc0eb91",
   "metadata": {},
   "outputs": [
    {
     "name": "stdout",
     "output_type": "stream",
     "text": [
      "Pipe 01 – Curve 4         → Length: 249.57 mm\n",
      "Pipe 01 – Curve 5         → Length: 253.51 mm\n",
      "Pipe 02 – Curve 3         → Length: 226.69 mm\n",
      "Pipe 02 – Curve 4         → Length: 296.75 mm\n",
      "Pipe 03 – Curve 1         → Length: 211.98 mm\n",
      "Pipe 03 – Curve 4         → Length: 175.71 mm\n",
      "Pipe 04 – Curve 1         → Length: 583.02 mm\n",
      "Pipe 04 – Curve 2         → Length: 385.41 mm\n",
      "Pipe 05 – Curve 3         → Length: 222.99 mm\n",
      "Pipe 05 – Curve 4         → Length: 212.66 mm\n",
      "Pipe 05 – Curve 5         → Length: 253.18 mm\n",
      "Pipe 06 – Curve 2         → Length: 261.29 mm\n",
      "Pipe 06 – Curve 4         → Length: 261.16 mm\n",
      "Pipe 06 – Curve 5         → Length: 232.53 mm\n",
      "Pipe 07 – Curve 1         → Length: 246.99 mm\n",
      "Pipe 07 – Curve 2         → Length: 259.30 mm\n",
      "Pipe 07 – Curve 3         → Length: 282.04 mm\n",
      "Pipe 07 – Curve 4         → Length: 231.21 mm\n",
      "Pipe 08 – Curve 1         → Length: 215.46 mm\n",
      "Pipe 08 – Curve 3         → Length: 279.47 mm\n",
      "Pipe 08 – Curve 4         → Length: 282.62 mm\n",
      "Pipe 08 – Curve 5         → Length: 244.41 mm\n",
      "Pipe 09 – Curve 2         → Length: 285.66 mm\n",
      "Pipe 09 – Curve 4         → Length: 238.30 mm\n",
      "Pipe 10 – Curve 1         → Length: 210.34 mm\n",
      "Pipe 10 – Curve 2         → Length: 265.04 mm\n",
      "Pipe 10 – Curve 3         → Length: 312.07 mm\n",
      "Pipe 10 – Curve 4         → Length: 229.11 mm\n",
      "\n",
      "📏 Statistik over kurve-længder:\n",
      "Min:         175.71\n",
      "Maks:        583.02\n",
      "Gennemsnit:  264.59\n",
      "Std. afvig:  72.66\n"
     ]
    }
   ],
   "source": [
    "def curve_length(curve):\n",
    "    return np.sum(np.linalg.norm(np.diff(curve, axis=0), axis=1))\n",
    "\n",
    "lengths = [curve_length(curve) for curve in aligned_curves]\n",
    "\n",
    "\n",
    "# Udskriv længder for hver kurve\n",
    "for name, L in zip(labels, lengths):\n",
    "    print(f\"{name:<25} → Length: {L:.2f} mm\")\n",
    "\n",
    "lengths = np.array(lengths)\n",
    "\n",
    "print(\"\\n📏 Statistik over kurve-længder:\")\n",
    "print(f\"Min:         {lengths.min():.2f}\")\n",
    "print(f\"Maks:        {lengths.max():.2f}\")\n",
    "print(f\"Gennemsnit:  {lengths.mean():.2f}\")\n",
    "print(f\"Std. afvig:  {lengths.std():.2f}\")\n",
    "\n"
   ]
  },
  {
   "cell_type": "code",
   "execution_count": 8,
   "id": "221b5099",
   "metadata": {},
   "outputs": [],
   "source": [
    "plt.figure(figsize=(12, 5))\n",
    "plt.bar(labels, lengths, color='orchid')\n",
    "plt.xticks(rotation=90)\n",
    "plt.ylabel(\"Length [mm]\")\n",
    "plt.title(\"Length of aligned 3D curves\")\n",
    "plt.tight_layout()\n",
    "plt.show()\n"
   ]
  },
  {
   "cell_type": "markdown",
   "id": "19221099",
   "metadata": {},
   "source": [
    "# Midter squiggle"
   ]
  },
  {
   "cell_type": "code",
   "execution_count": 9,
   "id": "b71d82e2",
   "metadata": {},
   "outputs": [],
   "source": [
    "def extract_middle_section(curve, fraction=0.16):\n",
    "    \"\"\"\n",
    "    Returnerer den midterste del af kurven.\n",
    "    fraction=0.3 → midterste 30%\n",
    "    \"\"\"\n",
    "    n = len(curve)\n",
    "    mid = n // 2\n",
    "    half_window = int(n * fraction / 2)\n",
    "    return curve[mid - half_window : mid + half_window]\n"
   ]
  },
  {
   "cell_type": "markdown",
   "id": "b4e9c3dc",
   "metadata": {},
   "source": [
    "### Kun midte plot"
   ]
  },
  {
   "cell_type": "code",
   "execution_count": 10,
   "id": "1acc4ec7",
   "metadata": {},
   "outputs": [
    {
     "name": "stderr",
     "output_type": "stream",
     "text": [
      "C:\\Users\\lucca\\AppData\\Local\\Temp\\ipykernel_884\\4041128400.py:8: MatplotlibDeprecationWarning: The get_cmap function was deprecated in Matplotlib 3.7 and will be removed in 3.11. Use ``matplotlib.colormaps[name]`` or ``matplotlib.colormaps.get_cmap()`` or ``pyplot.get_cmap()`` instead.\n",
      "  cmap = cm.get_cmap('plasma', 40)  # alternativt 'tab10', 'Set1', 'turbo'  # eller 'nipy_spectral', 'viridis' osv.\n"
     ]
    }
   ],
   "source": [
    "import matplotlib.cm as cm\n",
    "# Plot-indstillinger\n",
    "n = len(aligned_curves)\n",
    "rows, cols = 4, 7  # Justér hvis du har flere/færre kurver\n",
    "\n",
    "fig = plt.figure(figsize=(cols * 3, rows * 3))\n",
    "n = len(aligned_curves)\n",
    "cmap = cm.get_cmap('plasma', 40)  # alternativt 'tab10', 'Set1', 'turbo'  # eller 'nipy_spectral', 'viridis' osv.\n",
    "\n",
    "for i, curve in enumerate(aligned_curves):\n",
    "    ax = fig.add_subplot(rows, cols, i + 1, projection='3d')\n",
    "    \n",
    "    mid = extract_middle_section(curve, fraction=0.25)\n",
    "    ax.plot(*mid.T, color=cmap(i), linewidth=1.5)\n",
    "\n",
    "    ax.set_title(labels[i], fontsize=8)\n",
    "    ax.set_xlabel(\"X\", fontsize=6)\n",
    "    ax.set_ylabel(\"Y\", fontsize=6)\n",
    "    ax.set_zlabel(\"Z\", fontsize=6)\n",
    "    ax.tick_params(labelsize=6)\n",
    "    ax.view_init(elev=0, azim=90) \n",
    "\n",
    "plt.tight_layout()\n",
    "plt.suptitle(\"Middle 'Squiggle' of Each Curve\", fontsize=16, y=1.02)\n",
    "plt.subplots_adjust(top=0.92)\n",
    "plt.show()"
   ]
  },
  {
   "cell_type": "markdown",
   "id": "f17aeee5",
   "metadata": {},
   "source": [
    "### Midte og lidt ryk plot"
   ]
  },
  {
   "cell_type": "code",
   "execution_count": 11,
   "id": "ddd28f31",
   "metadata": {},
   "outputs": [
    {
     "name": "stderr",
     "output_type": "stream",
     "text": [
      "C:\\Users\\lucca\\AppData\\Local\\Temp\\ipykernel_884\\1086703927.py:34: MatplotlibDeprecationWarning: The get_cmap function was deprecated in Matplotlib 3.7 and will be removed in 3.11. Use ``matplotlib.colormaps[name]`` or ``matplotlib.colormaps.get_cmap()`` or ``pyplot.get_cmap()`` instead.\n",
      "  cmap = cm.get_cmap('plasma', 40)\n"
     ]
    }
   ],
   "source": [
    "def extract_middle_section(curve, fraction=0.25, shift=0):\n",
    "    \"\"\"\n",
    "    Returnerer midtersektionen af kurven, med valgfri forskydning.\n",
    "    - fraction: hvor stor del af kurven du vil tage (som andel, fx 0.25)\n",
    "    - shift: hvor mange punkter forskydes vinduet (positiv = højre, negativ = venstre)\n",
    "    \"\"\"\n",
    "    n = len(curve)\n",
    "    mid = n // 2 + shift\n",
    "    half_window = int(n * fraction / 2)\n",
    "    start = max(0, mid - half_window)\n",
    "    end = min(n, mid + half_window)\n",
    "    return curve[start:end]\n",
    "\n",
    "# Dine manuelle justeringer\n",
    "# Dine tilpasninger – nu i antal punkter (fx ±20 ud af 1000)\n",
    "shifts = {\n",
    "    3:  40,   # ryk lidt til højre (langs kurven)\n",
    "    11: -40,\n",
    "    23: -30,\n",
    "    10: -30,  # ryk lidt til venstre\n",
    "    21: 40\n",
    "}\n",
    "\n",
    "\n",
    "# Udtræk midterstykker med tilpasning (KUN forskel på dem du angiver)\n",
    "centered_curves = []\n",
    "for i, curve in enumerate(aligned_curves):\n",
    "    shift = shifts.get(i, 0)\n",
    "    section = extract_middle_section(curve, fraction=0.25, shift=shift)\n",
    "    centered_curves.append(section)\n",
    "\n",
    "fig = plt.figure(figsize=(cols * 3, rows * 3))\n",
    "n = len(centered_curves)\n",
    "cmap = cm.get_cmap('plasma', 40)\n",
    "\n",
    "for i, curve in enumerate(centered_curves):\n",
    "    ax = fig.add_subplot(rows, cols, i + 1, projection='3d')\n",
    "    ax.plot(*curve.T, color=cmap(i), linewidth=1.5)\n",
    "    ax.set_title(labels[i], fontsize=8)\n",
    "    ax.set_xlabel(\"X\", fontsize=6)\n",
    "    ax.set_ylabel(\"Y\", fontsize=6)\n",
    "    ax.set_zlabel(\"Z\", fontsize=6)\n",
    "    ax.tick_params(labelsize=6)\n",
    "    ax.view_init(elev=0, azim=90)\n",
    "\n",
    "plt.tight_layout()\n",
    "plt.suptitle(\"Middle 'Squiggle' of Each Curve (X-Z view)\", fontsize=16, y=1.02)\n",
    "plt.subplots_adjust(top=0.92)\n",
    "plt.show()\n"
   ]
  },
  {
   "cell_type": "code",
   "execution_count": 12,
   "id": "25e871de",
   "metadata": {},
   "outputs": [
    {
     "name": "stdout",
     "output_type": "stream",
     "text": [
      "Pipe 01 – Curve 4 → Mid-length: 62.21 mm, Amplitude: [12.64774547  2.89058402 28.3472762 ]\n",
      "Pipe 01 – Curve 5 → Mid-length: 63.19 mm, Amplitude: [14.50540826  1.53924188 25.60303259]\n",
      "Pipe 02 – Curve 3 → Mid-length: 56.50 mm, Amplitude: [24.361978    2.45728298 18.19501259]\n",
      "Pipe 02 – Curve 4 → Mid-length: 73.96 mm, Amplitude: [16.39314289  1.96934851 33.18531734]\n",
      "Pipe 03 – Curve 1 → Mid-length: 52.83 mm, Amplitude: [11.00895709  2.51627572 23.83872836]\n",
      "Pipe 03 – Curve 4 → Mid-length: 43.79 mm, Amplitude: [21.99280224  1.21882012 13.34457387]\n",
      "Pipe 04 – Curve 1 → Mid-length: 145.31 mm, Amplitude: [42.81023817  3.54094643 56.65366282]\n",
      "Pipe 04 – Curve 2 → Mid-length: 96.06 mm, Amplitude: [22.36958526  3.95935148 39.33318964]\n",
      "Pipe 05 – Curve 3 → Mid-length: 55.58 mm, Amplitude: [22.758924    0.95434133 17.80991101]\n",
      "Pipe 05 – Curve 4 → Mid-length: 53.00 mm, Amplitude: [20.93152721  1.33294623 19.47085769]\n",
      "Pipe 05 – Curve 5 → Mid-length: 63.11 mm, Amplitude: [12.13194164  1.43793589 27.45564526]\n",
      "Pipe 06 – Curve 2 → Mid-length: 65.12 mm, Amplitude: [20.5190612   1.14174125 23.07974633]\n",
      "Pipe 06 – Curve 4 → Mid-length: 65.09 mm, Amplitude: [25.1175575   1.84060391 20.60040902]\n",
      "Pipe 06 – Curve 5 → Mid-length: 57.95 mm, Amplitude: [20.67999558  1.31353231 20.98266396]\n",
      "Pipe 07 – Curve 1 → Mid-length: 61.56 mm, Amplitude: [24.9673678   1.43517162 20.36252525]\n",
      "Pipe 07 – Curve 2 → Mid-length: 64.63 mm, Amplitude: [17.01546417  0.96031893 26.92903946]\n",
      "Pipe 07 – Curve 3 → Mid-length: 70.30 mm, Amplitude: [13.60785135  1.76773895 28.92952609]\n",
      "Pipe 07 – Curve 4 → Mid-length: 57.62 mm, Amplitude: [20.25086382  1.69692124 21.06968683]\n",
      "Pipe 08 – Curve 1 → Mid-length: 53.70 mm, Amplitude: [21.78779409  1.08345004 17.78692248]\n",
      "Pipe 08 – Curve 3 → Mid-length: 69.65 mm, Amplitude: [32.11407759  3.09566591 18.07249202]\n",
      "Pipe 08 – Curve 4 → Mid-length: 70.44 mm, Amplitude: [24.25318839  1.85577404 24.75212548]\n",
      "Pipe 08 – Curve 5 → Mid-length: 60.92 mm, Amplitude: [13.2437654  1.1069466 24.9226418]\n",
      "Pipe 09 – Curve 2 → Mid-length: 71.20 mm, Amplitude: [21.83138876  1.32272193 27.36177526]\n",
      "Pipe 09 – Curve 4 → Mid-length: 59.39 mm, Amplitude: [15.5865487   1.46073904 25.72435073]\n",
      "Pipe 10 – Curve 1 → Mid-length: 52.42 mm, Amplitude: [20.2649021   1.87807848 14.98005744]\n",
      "Pipe 10 – Curve 2 → Mid-length: 66.06 mm, Amplitude: [19.44405813  2.38112585 23.34867212]\n",
      "Pipe 10 – Curve 3 → Mid-length: 77.78 mm, Amplitude: [18.31526687  1.70809585 31.36905346]\n",
      "Pipe 10 – Curve 4 → Mid-length: 57.10 mm, Amplitude: [25.68434835  1.50692405 17.06970236]\n"
     ]
    }
   ],
   "source": [
    "for i, curve in enumerate(centered_curves):\n",
    "    length = np.sum(np.linalg.norm(np.diff(centered_curves[i], axis=0), axis=1))\n",
    "    amp = np.ptp(centered_curves[i], axis=0)\n",
    "    print(f\"{labels[i]} → Mid-length: {length:.2f} mm, Amplitude: {amp}\")\n"
   ]
  },
  {
   "cell_type": "markdown",
   "id": "872fc3f8",
   "metadata": {},
   "source": [
    "# Frekvens på Z-akse"
   ]
  },
  {
   "cell_type": "code",
   "execution_count": 13,
   "id": "099b11c6",
   "metadata": {},
   "outputs": [],
   "source": [
    "from scipy.fft import fft, fftfreq\n",
    "components = ['X', 'Y', 'Z']\n",
    "plt.figure(figsize=(16, 10))\n",
    "\n",
    "for j, axis in enumerate([0, 1, 2]):  # 0 = X, 1 = Y, 2 = Z\n",
    "    plt.subplot(3, 1, j + 1)\n",
    "    \n",
    "    for i, curve in enumerate(aligned_curves):\n",
    "        signal = curve[:, axis]\n",
    "        N = len(signal)\n",
    "        L = curve_length(curve)\n",
    "        spacing = L / N\n",
    "\n",
    "        F = fft(signal)\n",
    "        freqs_mm = fftfreq(N, d=spacing)\n",
    "        idx = (freqs_mm > 0) & (freqs_mm <= 0.1)  # zoom\n",
    "\n",
    "        spectrum = 2.0 / N * np.abs(F[idx])\n",
    "        plt.plot(freqs_mm[idx], spectrum, label=labels[i], alpha=0.4)\n",
    "\n",
    "    plt.title(f\"Frekvensspektrum af {components[j]}-komponent (0–0.1 [1/mm])\")\n",
    "    plt.xlabel(\"Frekvens [1/mm]\")\n",
    "    plt.ylabel(\"Amplitude\")\n",
    "    plt.grid(True)\n",
    "\n",
    "plt.tight_layout()\n",
    "plt.show()\n"
   ]
  },
  {
   "cell_type": "code",
   "execution_count": 14,
   "id": "14bb1308",
   "metadata": {},
   "outputs": [
    {
     "name": "stdout",
     "output_type": "stream",
     "text": [
      "Dominerende frekvens pr. komponent (i [1/mm]):\n",
      "\n",
      "Pipe 01 – Curve 4         → X: 0.0040, Y: 0.0040, Z: 0.0160\n",
      "Pipe 01 – Curve 5         → X: 0.0039, Y: 0.0039, Z: 0.0039\n",
      "Pipe 02 – Curve 3         → X: 0.0044, Y: 0.0044, Z: 0.0044\n",
      "Pipe 02 – Curve 4         → X: 0.0034, Y: 0.0034, Z: 0.0135\n",
      "Pipe 03 – Curve 1         → X: 0.0047, Y: 0.0047, Z: 0.0189\n",
      "Pipe 03 – Curve 4         → X: 0.0057, Y: 0.0057, Z: 0.0057\n",
      "Pipe 04 – Curve 1         → X: 0.0017, Y: 0.0017, Z: 0.0017\n",
      "Pipe 04 – Curve 2         → X: 0.0026, Y: 0.0026, Z: 0.0104\n",
      "Pipe 05 – Curve 3         → X: 0.0045, Y: 0.0045, Z: 0.0045\n",
      "Pipe 05 – Curve 4         → X: 0.0047, Y: 0.0047, Z: 0.0047\n",
      "Pipe 05 – Curve 5         → X: 0.0039, Y: 0.0039, Z: 0.0158\n",
      "Pipe 06 – Curve 2         → X: 0.0038, Y: 0.0038, Z: 0.0077\n",
      "Pipe 06 – Curve 4         → X: 0.0038, Y: 0.0038, Z: 0.0038\n",
      "Pipe 06 – Curve 5         → X: 0.0043, Y: 0.0043, Z: 0.0043\n",
      "Pipe 07 – Curve 1         → X: 0.0040, Y: 0.0040, Z: 0.0040\n",
      "Pipe 07 – Curve 2         → X: 0.0039, Y: 0.0039, Z: 0.0154\n",
      "Pipe 07 – Curve 3         → X: 0.0035, Y: 0.0035, Z: 0.0035\n",
      "Pipe 07 – Curve 4         → X: 0.0043, Y: 0.0043, Z: 0.0173\n",
      "Pipe 08 – Curve 1         → X: 0.0046, Y: 0.0046, Z: 0.0046\n",
      "Pipe 08 – Curve 3         → X: 0.0036, Y: 0.0036, Z: 0.0036\n",
      "Pipe 08 – Curve 4         → X: 0.0035, Y: 0.0035, Z: 0.0035\n",
      "Pipe 08 – Curve 5         → X: 0.0041, Y: 0.0041, Z: 0.0164\n",
      "Pipe 09 – Curve 2         → X: 0.0035, Y: 0.0035, Z: 0.0140\n",
      "Pipe 09 – Curve 4         → X: 0.0042, Y: 0.0042, Z: 0.0168\n",
      "Pipe 10 – Curve 1         → X: 0.0048, Y: 0.0048, Z: 0.0048\n",
      "Pipe 10 – Curve 2         → X: 0.0038, Y: 0.0038, Z: 0.0151\n",
      "Pipe 10 – Curve 3         → X: 0.0032, Y: 0.0032, Z: 0.0128\n",
      "Pipe 10 – Curve 4         → X: 0.0044, Y: 0.0044, Z: 0.0175\n"
     ]
    }
   ],
   "source": [
    "print(\"Dominerende frekvens pr. komponent (i [1/mm]):\\n\")\n",
    "\n",
    "for i, curve in enumerate(aligned_curves):\n",
    "    dom_freqs = []\n",
    "    N = len(curve)\n",
    "    L = curve_length(curve)\n",
    "    spacing = L / N\n",
    "\n",
    "    for axis in range(3):\n",
    "        signal = curve[:, axis]\n",
    "        F = fft(signal)\n",
    "        freqs_mm = fftfreq(N, d=spacing)\n",
    "        idx = freqs_mm > 0\n",
    "        dominant_freq = freqs_mm[idx][np.argmax(np.abs(F[idx]))]\n",
    "        dom_freqs.append(dominant_freq)\n",
    "    \n",
    "    print(f\"{labels[i]:<25} → X: {dom_freqs[0]:.4f}, Y: {dom_freqs[1]:.4f}, Z: {dom_freqs[2]:.4f}\")\n"
   ]
  },
  {
   "cell_type": "code",
   "execution_count": 15,
   "id": "e4ac6062",
   "metadata": {},
   "outputs": [
    {
     "name": "stdout",
     "output_type": "stream",
     "text": [
      "Kurve                             Frekvens [1/mm]     Bølgelængde [mm]     Kurvelængde [mm]    Antal bølger\n",
      "---------------------------------------------------------------------------------------------------------\n",
      "Pipe 01 – Curve 4                          0.0160                62.39               249.57            4.00\n",
      "Pipe 01 – Curve 5                          0.0039               253.51               253.51            1.00\n",
      "Pipe 02 – Curve 3                          0.0044               226.69               226.69            1.00\n",
      "Pipe 02 – Curve 4                          0.0135                74.19               296.75            4.00\n",
      "Pipe 03 – Curve 1                          0.0189                53.00               211.98            4.00\n",
      "Pipe 03 – Curve 4                          0.0057               175.71               175.71            1.00\n",
      "Pipe 04 – Curve 1                          0.0017               583.02               583.02            1.00\n",
      "Pipe 04 – Curve 2                          0.0104                96.35               385.41            4.00\n",
      "Pipe 05 – Curve 3                          0.0045               222.99               222.99            1.00\n",
      "Pipe 05 – Curve 4                          0.0047               212.66               212.66            1.00\n",
      "Pipe 05 – Curve 5                          0.0158                63.30               253.18            4.00\n",
      "Pipe 06 – Curve 2                          0.0077               130.64               261.29            2.00\n",
      "Pipe 06 – Curve 4                          0.0038               261.16               261.16            1.00\n",
      "Pipe 06 – Curve 5                          0.0043               232.53               232.53            1.00\n",
      "Pipe 07 – Curve 1                          0.0040               246.99               246.99            1.00\n",
      "Pipe 07 – Curve 2                          0.0154                64.82               259.30            4.00\n",
      "Pipe 07 – Curve 3                          0.0035               282.04               282.04            1.00\n",
      "Pipe 07 – Curve 4                          0.0173                57.80               231.21            4.00\n",
      "Pipe 08 – Curve 1                          0.0046               215.46               215.46            1.00\n",
      "Pipe 08 – Curve 3                          0.0036               279.47               279.47            1.00\n",
      "Pipe 08 – Curve 4                          0.0035               282.62               282.62            1.00\n",
      "Pipe 08 – Curve 5                          0.0164                61.10               244.41            4.00\n",
      "Pipe 09 – Curve 2                          0.0140                71.42               285.66            4.00\n",
      "Pipe 09 – Curve 4                          0.0168                59.57               238.30            4.00\n",
      "Pipe 10 – Curve 1                          0.0048               210.34               210.34            1.00\n",
      "Pipe 10 – Curve 2                          0.0151                66.26               265.04            4.00\n",
      "Pipe 10 – Curve 3                          0.0128                78.02               312.07            4.00\n",
      "Pipe 10 – Curve 4                          0.0175                57.28               229.11            4.00\n"
     ]
    }
   ],
   "source": [
    "print(f\"{'Kurve':<30} {'Frekvens [1/mm]':>18} {'Bølgelængde [mm]':>20} {'Kurvelængde [mm]':>20} {'Antal bølger':>15}\")\n",
    "print(\"-\" * 105)\n",
    "\n",
    "for i, curve in enumerate(aligned_curves):\n",
    "    z = curve[:, 2]\n",
    "    N = len(z)\n",
    "    L = curve_length(curve)  # total længde i mm\n",
    "    spacing = L / N\n",
    "\n",
    "    Z = fft(z)\n",
    "    freqs = fftfreq(N, d=spacing)\n",
    "    idx = freqs > 0\n",
    "    dominant_freq = freqs[idx][np.argmax(np.abs(Z[idx]))]\n",
    "    wavelength = 1 / dominant_freq if dominant_freq > 0 else float('inf')\n",
    "    num_waves = L / wavelength if wavelength > 0 else 0\n",
    "\n",
    "    print(f\"{labels[i]:<30} {dominant_freq:>18.4f} {wavelength:>20.2f} {L:>20.2f} {num_waves:>15.2f}\")\n"
   ]
  },
  {
   "cell_type": "code",
   "execution_count": 16,
   "id": "32672bd3",
   "metadata": {},
   "outputs": [
    {
     "name": "stdout",
     "output_type": "stream",
     "text": [
      "Pipe 01 – Curve 4              → Estimerede bølger i Z: 6.5\n",
      "Pipe 01 – Curve 5              → Estimerede bølger i Z: 5.5\n",
      "Pipe 02 – Curve 3              → Estimerede bølger i Z: 4.5\n",
      "Pipe 02 – Curve 4              → Estimerede bølger i Z: 4.5\n",
      "Pipe 03 – Curve 1              → Estimerede bølger i Z: 4.5\n",
      "Pipe 03 – Curve 4              → Estimerede bølger i Z: 3.5\n",
      "Pipe 04 – Curve 1              → Estimerede bølger i Z: 4.5\n",
      "Pipe 04 – Curve 2              → Estimerede bølger i Z: 3.5\n",
      "Pipe 05 – Curve 3              → Estimerede bølger i Z: 3.5\n",
      "Pipe 05 – Curve 4              → Estimerede bølger i Z: 3.5\n",
      "Pipe 05 – Curve 5              → Estimerede bølger i Z: 4.5\n",
      "Pipe 06 – Curve 2              → Estimerede bølger i Z: 3.5\n",
      "Pipe 06 – Curve 4              → Estimerede bølger i Z: 3.5\n",
      "Pipe 06 – Curve 5              → Estimerede bølger i Z: 3.5\n",
      "Pipe 07 – Curve 1              → Estimerede bølger i Z: 3.5\n",
      "Pipe 07 – Curve 2              → Estimerede bølger i Z: 4.5\n",
      "Pipe 07 – Curve 3              → Estimerede bølger i Z: 3.5\n",
      "Pipe 07 – Curve 4              → Estimerede bølger i Z: 3.5\n",
      "Pipe 08 – Curve 1              → Estimerede bølger i Z: 3.5\n",
      "Pipe 08 – Curve 3              → Estimerede bølger i Z: 3.5\n",
      "Pipe 08 – Curve 4              → Estimerede bølger i Z: 4.5\n",
      "Pipe 08 – Curve 5              → Estimerede bølger i Z: 5.5\n",
      "Pipe 09 – Curve 2              → Estimerede bølger i Z: 4.5\n",
      "Pipe 09 – Curve 4              → Estimerede bølger i Z: 5.5\n",
      "Pipe 10 – Curve 1              → Estimerede bølger i Z: 3.5\n",
      "Pipe 10 – Curve 2              → Estimerede bølger i Z: 7.5\n",
      "Pipe 10 – Curve 3              → Estimerede bølger i Z: 5.5\n",
      "Pipe 10 – Curve 4              → Estimerede bølger i Z: 5.5\n"
     ]
    }
   ],
   "source": [
    "from scipy.signal import find_peaks\n",
    "\n",
    "for i, curve in enumerate(aligned_curves):\n",
    "    z = curve[:, 2]\n",
    "    peaks, _ = find_peaks(z)\n",
    "    valleys, _ = find_peaks(-z)\n",
    "    num_waves = (len(peaks) + len(valleys)) / 2\n",
    "\n",
    "    print(f\"{labels[i]:<30} → Estimerede bølger i Z: {num_waves:.1f}\")\n"
   ]
  },
  {
   "cell_type": "markdown",
   "id": "4ce112d9",
   "metadata": {},
   "source": [
    "# Lokal maks og min"
   ]
  },
  {
   "cell_type": "code",
   "execution_count": 17,
   "id": "e80b7e64",
   "metadata": {},
   "outputs": [],
   "source": [
    "from scipy.signal import find_peaks\n",
    "\n",
    "fig = plt.figure(figsize=(cols * 3, rows * 3))\n",
    "\n",
    "for i, curve in enumerate(aligned_curves):\n",
    "    x, y, z = curve.T\n",
    "    peaks, _ = find_peaks(z)\n",
    "    valleys, _ = find_peaks(-z)\n",
    "\n",
    "    ax = fig.add_subplot(rows, cols, i + 1, projection='3d')\n",
    "    ax.plot(x, y, z, color='gray', linewidth=1.0)\n",
    "    ax.scatter(x[peaks], y[peaks], z[peaks], color='red', marker='^', label='Toppe')\n",
    "    ax.scatter(x[valleys], y[valleys], z[valleys], color='blue', marker='v', label='Dale')\n",
    "\n",
    "    ax.set_title(labels[i], fontsize=8)\n",
    "    ax.set_xlabel(\"X\", fontsize=6)\n",
    "    ax.set_ylabel(\"Y\", fontsize=6)\n",
    "    ax.set_zlabel(\"Z\", fontsize=6)\n",
    "    ax.tick_params(labelsize=6)\n",
    "    ax.view_init(elev=0, azim=90)\n",
    "\n",
    "# Justering\n",
    "plt.tight_layout()\n",
    "plt.suptitle(\"3D-visning af kurver med Z-toppe og -dale\", fontsize=14, y=1.02)\n",
    "plt.subplots_adjust(top=0.92)\n",
    "plt.show()\n"
   ]
  },
  {
   "cell_type": "markdown",
   "id": "806eb88a",
   "metadata": {},
   "source": [
    "# Gennemsnitskurve"
   ]
  },
  {
   "cell_type": "markdown",
   "id": "fb8d53c2",
   "metadata": {},
   "source": [
    "### Suplots"
   ]
  },
  {
   "cell_type": "code",
   "execution_count": 31,
   "id": "6d684a02",
   "metadata": {},
   "outputs": [
    {
     "name": "stderr",
     "output_type": "stream",
     "text": [
      "C:\\Users\\lucca\\AppData\\Local\\Temp\\ipykernel_884\\4047832885.py:41: MatplotlibDeprecationWarning: The get_cmap function was deprecated in Matplotlib 3.7 and will be removed in 3.11. Use ``matplotlib.colormaps[name]`` or ``matplotlib.colormaps.get_cmap()`` or ``pyplot.get_cmap()`` instead.\n",
      "  cmap = cm.get_cmap('plasma', 40)\n"
     ]
    }
   ],
   "source": [
    "from scipy.interpolate import interp1d\n",
    "\n",
    "def reparameterize_by_arclength(curve, num_points=1000):\n",
    "    # 1. Beregn kumulativ længde\n",
    "    deltas = np.diff(curve, axis=0)\n",
    "    segment_lengths = np.linalg.norm(deltas, axis=1)\n",
    "    cumulative_length = np.insert(np.cumsum(segment_lengths), 0, 0)\n",
    "    total_length = cumulative_length[-1]\n",
    "    s = cumulative_length / total_length  # normaliseret arc length i [0,1]\n",
    "\n",
    "    # 2. Interpolér X, Y, Z som funktion af s\n",
    "    x_interp = interp1d(s, curve[:, 0], kind='linear')\n",
    "    y_interp = interp1d(s, curve[:, 1], kind='linear')\n",
    "    z_interp = interp1d(s, curve[:, 2], kind='linear')\n",
    "\n",
    "    s_uniform = np.linspace(0, 1, num_points)\n",
    "    reparam_curve = np.stack([\n",
    "        x_interp(s_uniform),\n",
    "        y_interp(s_uniform),\n",
    "        z_interp(s_uniform)\n",
    "    ], axis=1)\n",
    "\n",
    "    return reparam_curve\n",
    "# Reparameteriser alle kurver efter arc length\n",
    "reparam_curves = [reparameterize_by_arclength(c, num_points=1000) for c in aligned_curves]\n",
    "\n",
    "# Brug X fra den første kurve som reference\n",
    "ref_x = reparam_curves[0][:, 0]\n",
    "\n",
    "# Udtræk Y og Z fra alle kurver og tag gennemsnit\n",
    "Y_all = np.stack([c[:, 1] for c in reparam_curves])\n",
    "Z_all = np.stack([c[:, 2] for c in reparam_curves])\n",
    "\n",
    "mean_y = np.mean(Y_all, axis=0)\n",
    "mean_z = np.mean(Z_all, axis=0)\n",
    "\n",
    "# Saml mean-kurven\n",
    "mean_curve = np.stack([ref_x, mean_y, mean_z], axis=1)\n",
    "\n",
    "fig = plt.figure(figsize=(cols * 3, rows * 3))\n",
    "cmap = cm.get_cmap('plasma', 40)\n",
    "for i, curve in enumerate(reparam_curves):\n",
    "    ax = fig.add_subplot(rows, cols, i + 1, projection='3d')\n",
    "    ax.plot(*curve.T, color = cmap(i), linewidth=1.0, alpha=0.7)\n",
    "    ax.plot(*mean_curve.T, color='black', linewidth=2.0)\n",
    "    \n",
    "    ax.set_title(labels[i], fontsize=8)\n",
    "    ax.tick_params(labelsize=6)\n",
    "    ax.set_xlabel(\"X\", fontsize=6)\n",
    "    ax.set_ylabel(\"Y\", fontsize=6)\n",
    "    ax.set_zlabel(\"Z\", fontsize=6)\n",
    "    ax.view_init(elev=0, azim=270)\n",
    "\n",
    "plt.tight_layout()\n",
    "plt.suptitle(\"Kurver reparameteriseret efter arc length – med gennemsnit\", fontsize=14, y=1.02)\n",
    "plt.subplots_adjust(top=0.92)\n",
    "plt.show()\n"
   ]
  },
  {
   "cell_type": "markdown",
   "id": "29b693aa",
   "metadata": {},
   "source": [
    "### Alle i et"
   ]
  },
  {
   "cell_type": "code",
   "execution_count": 32,
   "id": "509cdd50",
   "metadata": {},
   "outputs": [],
   "source": [
    "# Brug dine egne kurver i stedet for dummy data\n",
    "\n",
    "# Plot alle rigtige kurver + mean\n",
    "fig = plt.figure(figsize=(10, 6))\n",
    "ax = fig.add_subplot(111, projection='3d')\n",
    "\n",
    "for c in reparam_curves:\n",
    "    ax.plot(c[:, 0], c[:, 1], c[:, 2], color='gray', alpha=0.3)\n",
    "\n",
    "ax.plot(mean_curve[:, 0], mean_curve[:, 1], mean_curve[:, 2], color='black', linewidth=2, label='Mean Curve')\n",
    "ax.set_xlabel(\"X\")\n",
    "ax.set_ylabel(\"Y\")\n",
    "ax.set_zlabel(\"Z\")\n",
    "ax.set_title(\"Dine egne kurver (gennemsigtige) + Mean Curve (sort)\")\n",
    "ax.legend()\n",
    "plt.tight_layout()\n",
    "plt.show()\n",
    "\n"
   ]
  },
  {
   "cell_type": "markdown",
   "id": "a21b631c",
   "metadata": {},
   "source": [
    "### Stat"
   ]
  },
  {
   "cell_type": "code",
   "execution_count": 36,
   "id": "d12494a2",
   "metadata": {},
   "outputs": [],
   "source": [
    "# Brug mean/std for X, Y og Z\n",
    "X_all = np.stack([c[:, 0] for c in reparam_curves])\n",
    "mean_x = np.mean(X_all, axis=0)\n",
    "std_x = np.std(X_all, axis=0)\n",
    "\n",
    "arc = np.linspace(0, 1, mean_x.shape[0])\n",
    "\n",
    "# Plot X, Y, Z mean ± std\n",
    "fig, axs = plt.subplots(3, 1, figsize=(10, 9), sharex=True)\n",
    "\n",
    "# X\n",
    "axs[0].plot(arc, mean_x, color='black', label='Mean X')\n",
    "axs[0].fill_between(arc, mean_x - std_x, mean_x + std_x, color='gray', alpha=0.3, label='±1 Std')\n",
    "axs[0].set_ylabel(\"X\")\n",
    "axs[0].set_title(\"Mean ± Std Deviation\")\n",
    "axs[0].grid(True)\n",
    "axs[0].legend()\n",
    "\n",
    "# Y\n",
    "axs[1].plot(arc, mean_y, color='black', label='Mean Y')\n",
    "axs[1].fill_between(arc, mean_y - std_y, mean_y + std_y, color='gray', alpha=0.3, label='±1 Std')\n",
    "axs[1].set_ylabel(\"Y\")\n",
    "axs[1].grid(True)\n",
    "axs[1].legend()\n",
    "\n",
    "# Z\n",
    "axs[2].plot(arc, mean_z, color='black', label='Mean Z')\n",
    "axs[2].fill_between(arc, mean_z - std_z, mean_z + std_z, color='gray', alpha=0.3, label='±1 Std')\n",
    "axs[2].set_ylabel(\"Z\")\n",
    "axs[2].set_xlabel(\"Arc Length Position\")\n",
    "axs[2].grid(True)\n",
    "axs[2].legend()\n",
    "\n",
    "plt.tight_layout()\n",
    "plt.show()\n"
   ]
  },
  {
   "cell_type": "code",
   "execution_count": 37,
   "id": "ab8af568",
   "metadata": {},
   "outputs": [
    {
     "name": "stdout",
     "output_type": "stream",
     "text": [
      "Pipe 01 – Curve 4         → RMS-fejl til mean: 6.4619\n",
      "Pipe 01 – Curve 5         → RMS-fejl til mean: 4.7928\n",
      "Pipe 02 – Curve 3         → RMS-fejl til mean: 4.1645\n",
      "Pipe 02 – Curve 4         → RMS-fejl til mean: 8.4532\n",
      "Pipe 03 – Curve 1         → RMS-fejl til mean: 5.5658\n",
      "Pipe 03 – Curve 4         → RMS-fejl til mean: 5.0908\n",
      "Pipe 04 – Curve 1         → RMS-fejl til mean: 16.5114\n",
      "Pipe 04 – Curve 2         → RMS-fejl til mean: 9.3458\n",
      "Pipe 05 – Curve 3         → RMS-fejl til mean: 4.0347\n",
      "Pipe 05 – Curve 4         → RMS-fejl til mean: 3.1781\n",
      "Pipe 05 – Curve 5         → RMS-fejl til mean: 5.2306\n",
      "Pipe 06 – Curve 2         → RMS-fejl til mean: 8.4459\n",
      "Pipe 06 – Curve 4         → RMS-fejl til mean: 10.6171\n",
      "Pipe 06 – Curve 5         → RMS-fejl til mean: 3.5104\n",
      "Pipe 07 – Curve 1         → RMS-fejl til mean: 6.6185\n",
      "Pipe 07 – Curve 2         → RMS-fejl til mean: 3.5317\n",
      "Pipe 07 – Curve 3         → RMS-fejl til mean: 3.9610\n",
      "Pipe 07 – Curve 4         → RMS-fejl til mean: 8.6758\n",
      "Pipe 08 – Curve 1         → RMS-fejl til mean: 2.4385\n",
      "Pipe 08 – Curve 3         → RMS-fejl til mean: 12.3365\n",
      "Pipe 08 – Curve 4         → RMS-fejl til mean: 2.4765\n",
      "Pipe 08 – Curve 5         → RMS-fejl til mean: 5.5259\n",
      "Pipe 09 – Curve 2         → RMS-fejl til mean: 5.1894\n",
      "Pipe 09 – Curve 4         → RMS-fejl til mean: 6.6642\n",
      "Pipe 10 – Curve 1         → RMS-fejl til mean: 5.2291\n",
      "Pipe 10 – Curve 2         → RMS-fejl til mean: 3.2374\n",
      "Pipe 10 – Curve 3         → RMS-fejl til mean: 4.5829\n",
      "Pipe 10 – Curve 4         → RMS-fejl til mean: 7.3690\n"
     ]
    }
   ],
   "source": [
    "import matplotlib.pyplot as plt\n",
    "import numpy as np\n",
    "\n",
    "arc = np.linspace(0, 1, mean_z.shape[0])  # eller len(mean_z) hvis du er i tvivl\n",
    "\n",
    "plt.figure(figsize=(10, 4))\n",
    "plt.plot(arc, mean_z, color='black', label=\"Mean Z\")\n",
    "plt.fill_between(arc, mean_z - std_z, mean_z + std_z, color='gray', alpha=0.4, label=\"±1 Std Z\")\n",
    "plt.title(\"Mean Z with ±1 Std Deviation Band\")\n",
    "plt.xlabel(\"Arc Length Position\")\n",
    "plt.ylabel(\"Z\")\n",
    "plt.grid(True)\n",
    "plt.legend()\n",
    "plt.tight_layout()\n",
    "plt.show()\n",
    "rms_errors = []\n",
    "for c in reparam_curves:\n",
    "    dy = c[:, 1] - mean_y\n",
    "    dz = c[:, 2] - mean_z\n",
    "    rms = np.sqrt(np.mean(dy**2 + dz**2))\n",
    "    rms_errors.append(rms)\n",
    "\n",
    "# Print eller brug som du vil\n",
    "for i, rms in enumerate(rms_errors):\n",
    "    print(f\"{labels[i]:<25} → RMS-fejl til mean: {rms:.4f}\")\n"
   ]
  },
  {
   "cell_type": "markdown",
   "id": "e13fee38",
   "metadata": {},
   "source": [
    "# Næste"
   ]
  }
 ],
 "metadata": {
  "kernelspec": {
   "display_name": "fagprojekt",
   "language": "python",
   "name": "python3"
  },
  "language_info": {
   "codemirror_mode": {
    "name": "ipython",
    "version": 3
   },
   "file_extension": ".py",
   "mimetype": "text/x-python",
   "name": "python",
   "nbconvert_exporter": "python",
   "pygments_lexer": "ipython3",
   "version": "3.13.2"
  }
 },
 "nbformat": 4,
 "nbformat_minor": 5
}
