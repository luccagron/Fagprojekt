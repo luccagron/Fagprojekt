{
 "cells": [
  {
   "cell_type": "code",
   "execution_count": 119,
   "id": "b9cce6e4",
   "metadata": {},
   "outputs": [],
   "source": [
    "import os\n",
    "import glob\n",
    "import numpy as np\n",
    "import re\n",
    "import matplotlib.pyplot as plt\n",
    "\n",
    "# Find alle CSV-filer i mappen\n",
    "curve_paths = glob.glob(\"../data/PC roteret/*.csv\")\n",
    "\n",
    "# Indlæs alle kurver\n",
    "aligned_curves = [np.loadtxt(path, delimiter=\",\") for path in curve_paths]\n",
    "\n",
    "\n",
    "def translate_filename(filename):\n",
    "    \"\"\"\n",
    "    Oversætter 'Rør10Kurve3.csv' → 'Pipe 10 – Curve 3'\n",
    "    \"\"\"\n",
    "    match = re.search(r\"Rør(\\d+)Kurve(\\d+)\", filename)\n",
    "    if match:\n",
    "        pipe_num = match.group(1)\n",
    "        curve_num = match.group(2)\n",
    "        return f\"Pipe {pipe_num} – Curve {curve_num}\"\n",
    "    else:\n",
    "        return filename  # fallback hvis ikke formatet matcher\n",
    "labels = [translate_filename(os.path.basename(p).replace(\"_PC\", \"\")) for p in curve_paths]\n",
    "%matplotlib qt"
   ]
  },
  {
   "cell_type": "markdown",
   "id": "27516cba",
   "metadata": {},
   "source": [
    "# Længde"
   ]
  },
  {
   "cell_type": "code",
   "execution_count": 120,
   "id": "2bc0eb91",
   "metadata": {},
   "outputs": [
    {
     "name": "stdout",
     "output_type": "stream",
     "text": [
      "Pipe 01 – Curve 4         → Length: 249.57 mm\n",
      "Pipe 01 – Curve 5         → Length: 253.51 mm\n",
      "Pipe 02 – Curve 3         → Length: 226.69 mm\n",
      "Pipe 02 – Curve 4         → Length: 296.75 mm\n",
      "Pipe 03 – Curve 1         → Length: 211.98 mm\n",
      "Pipe 03 – Curve 4         → Length: 175.71 mm\n",
      "Pipe 04 – Curve 2         → Length: 385.41 mm\n",
      "Pipe 05 – Curve 3         → Length: 222.99 mm\n",
      "Pipe 05 – Curve 4         → Length: 212.66 mm\n",
      "Pipe 05 – Curve 5         → Length: 253.18 mm\n",
      "Pipe 06 – Curve 2         → Length: 261.29 mm\n",
      "Pipe 06 – Curve 4         → Length: 261.16 mm\n",
      "Pipe 06 – Curve 5         → Length: 232.53 mm\n",
      "Pipe 07 – Curve 1         → Length: 246.99 mm\n",
      "Pipe 07 – Curve 2         → Length: 259.30 mm\n",
      "Pipe 07 – Curve 3         → Length: 282.04 mm\n",
      "Pipe 07 – Curve 4         → Length: 231.21 mm\n",
      "Pipe 08 – Curve 1         → Length: 215.46 mm\n",
      "Pipe 08 – Curve 3         → Length: 279.47 mm\n",
      "Pipe 08 – Curve 4         → Length: 282.62 mm\n",
      "Pipe 08 – Curve 5         → Length: 244.41 mm\n",
      "Pipe 09 – Curve 2         → Length: 285.66 mm\n",
      "Pipe 09 – Curve 4         → Length: 238.30 mm\n",
      "Pipe 10 – Curve 1         → Length: 210.34 mm\n",
      "Pipe 10 – Curve 2         → Length: 265.04 mm\n",
      "Pipe 10 – Curve 3         → Length: 312.07 mm\n",
      "Pipe 10 – Curve 4         → Length: 229.11 mm\n",
      "\n",
      "📏 Statistik over kurve-længder:\n",
      "Min:         175.71\n",
      "Maks:        385.41\n",
      "Gennemsnit:  252.79\n",
      "Std. afvig:  39.74\n"
     ]
    }
   ],
   "source": [
    "def curve_length(curve):\n",
    "    return np.sum(np.linalg.norm(np.diff(curve, axis=0), axis=1))\n",
    "\n",
    "lengths = [curve_length(curve) for curve in aligned_curves]\n",
    "\n",
    "# Udskriv længder for hver kurve\n",
    "for name, L in zip(labels, lengths):\n",
    "    print(f\"{name:<25} → Length: {L:.2f} mm\")\n",
    "\n",
    "lengths = np.array(lengths)\n",
    "\n",
    "print(\"\\n📏 Statistik over kurve-længder:\")\n",
    "print(f\"Min:         {lengths.min():.2f}\")\n",
    "print(f\"Maks:        {lengths.max():.2f}\")\n",
    "print(f\"Gennemsnit:  {lengths.mean():.2f}\")\n",
    "print(f\"Std. afvig:  {lengths.std():.2f}\")\n",
    "\n"
   ]
  },
  {
   "cell_type": "code",
   "execution_count": 121,
   "id": "221b5099",
   "metadata": {},
   "outputs": [],
   "source": [
    "plt.figure(figsize=(12, 5))\n",
    "plt.bar(labels, lengths, color='orchid')\n",
    "plt.xticks(rotation=90)\n",
    "plt.axhline(y=264.59, color='black', linestyle='--', linewidth=1.5, label='Mean length')\n",
    "plt.ylabel(\"Length [mm]\")\n",
    "plt.title(\"Length of aligned 3D curves\")\n",
    "plt.tight_layout()\n",
    "plt.show()\n"
   ]
  },
  {
   "cell_type": "markdown",
   "id": "19221099",
   "metadata": {},
   "source": [
    "# Midter squiggle"
   ]
  },
  {
   "cell_type": "code",
   "execution_count": 122,
   "id": "b71d82e2",
   "metadata": {},
   "outputs": [],
   "source": [
    "def extract_middle_section(curve, fraction=0.16):\n",
    "    \"\"\"\n",
    "    Returnerer den midterste del af kurven.\n",
    "    fraction=0.3 → midterste 30%\n",
    "    \"\"\"\n",
    "    n = len(curve)\n",
    "    mid = n // 2\n",
    "    half_window = int(n * fraction / 2)\n",
    "    return curve[mid - half_window : mid + half_window]\n"
   ]
  },
  {
   "cell_type": "markdown",
   "id": "b4e9c3dc",
   "metadata": {},
   "source": [
    "### Kun midte plot"
   ]
  },
  {
   "cell_type": "code",
   "execution_count": 123,
   "id": "1acc4ec7",
   "metadata": {},
   "outputs": [
    {
     "name": "stderr",
     "output_type": "stream",
     "text": [
      "C:\\Users\\lucca\\AppData\\Local\\Temp\\ipykernel_3136\\1229060484.py:8: MatplotlibDeprecationWarning: The get_cmap function was deprecated in Matplotlib 3.7 and will be removed in 3.11. Use ``matplotlib.colormaps[name]`` or ``matplotlib.colormaps.get_cmap()`` or ``pyplot.get_cmap()`` instead.\n",
      "  cmap = cm.get_cmap('plasma', 40)  # alternativt 'tab10', 'Set1', 'turbo'  # eller 'nipy_spectral', 'viridis' osv.\n"
     ]
    }
   ],
   "source": [
    "import matplotlib.cm as cm\n",
    "# Plot-indstillinger\n",
    "n = len(aligned_curves)\n",
    "rows, cols = 4, 7  # Justér hvis du har flere/færre kurver\n",
    "\n",
    "fig = plt.figure(figsize=(cols * 3, rows * 3))\n",
    "n = len(aligned_curves)\n",
    "cmap = cm.get_cmap('plasma', 40)  # alternativt 'tab10', 'Set1', 'turbo'  # eller 'nipy_spectral', 'viridis' osv.\n",
    "\n",
    "for i, curve in enumerate(aligned_curves):\n",
    "    ax = fig.add_subplot(rows, cols, i + 1, projection='3d')\n",
    "    \n",
    "    mid = extract_middle_section(curve, fraction=0.25)\n",
    "    ax.plot(*mid.T, color=cmap(i), linewidth=1.5)\n",
    "    ax.set_xticks([]); ax.set_yticks([]); ax.set_zticks([])\n",
    "    ax.set_title(labels[i], fontsize=8)\n",
    "    ax.set_xlabel(\"X\", fontsize=6)\n",
    "    ax.set_ylabel(\"Y\", fontsize=6)\n",
    "    ax.set_zlabel(\"Z\", fontsize=6)\n",
    "    ax.tick_params(labelsize=6)\n",
    "    ax.view_init(elev=0, azim=90) \n",
    "\n",
    "plt.tight_layout()\n",
    "plt.suptitle(\"Middle 'Squiggle' of Each Curve\", fontsize=16, y=1.02)\n",
    "plt.subplots_adjust(top=0.92)\n",
    "plt.show()"
   ]
  },
  {
   "cell_type": "markdown",
   "id": "f17aeee5",
   "metadata": {},
   "source": [
    "### Midte og lidt ryk plot"
   ]
  },
  {
   "cell_type": "code",
   "execution_count": 124,
   "id": "ddd28f31",
   "metadata": {},
   "outputs": [
    {
     "name": "stderr",
     "output_type": "stream",
     "text": [
      "C:\\Users\\lucca\\AppData\\Local\\Temp\\ipykernel_3136\\257510618.py:34: MatplotlibDeprecationWarning: The get_cmap function was deprecated in Matplotlib 3.7 and will be removed in 3.11. Use ``matplotlib.colormaps[name]`` or ``matplotlib.colormaps.get_cmap()`` or ``pyplot.get_cmap()`` instead.\n",
      "  cmap = cm.get_cmap('plasma', 40)\n"
     ]
    }
   ],
   "source": [
    "def extract_middle_section(curve, fraction=0.25, shift=0):\n",
    "    \"\"\"\n",
    "    Returnerer midtersektionen af kurven, med valgfri forskydning.\n",
    "    - fraction: hvor stor del af kurven du vil tage (som andel, fx 0.25)\n",
    "    - shift: hvor mange punkter forskydes vinduet (positiv = højre, negativ = venstre)\n",
    "    \"\"\"\n",
    "    n = len(curve)\n",
    "    mid = n // 2 + shift\n",
    "    half_window = int(n * fraction / 2)\n",
    "    start = max(0, mid - half_window)\n",
    "    end = min(n, mid + half_window)\n",
    "    return curve[start:end]\n",
    "\n",
    "# Dine manuelle justeringer\n",
    "# Dine tilpasninger – nu i antal punkter (fx ±20 ud af 1000)\n",
    "shifts = {\n",
    "    3:  40,   # ryk lidt til højre (langs kurven)\n",
    "    10: -40,\n",
    "    22: -30,\n",
    "    9: -30,  # ryk lidt til venstre\n",
    "    20: 40\n",
    "}\n",
    "\n",
    "\n",
    "# Udtræk midterstykker med tilpasning (KUN forskel på dem du angiver)\n",
    "centered_curves = []\n",
    "for i, curve in enumerate(aligned_curves):\n",
    "    shift = shifts.get(i, 0)\n",
    "    section = extract_middle_section(curve, fraction=0.25, shift=shift)\n",
    "    centered_curves.append(section)\n",
    "\n",
    "fig = plt.figure(figsize=(cols * 3, rows * 3))\n",
    "n = len(centered_curves)\n",
    "cmap = cm.get_cmap('plasma', 40)\n",
    "\n",
    "for i, curve in enumerate(centered_curves):\n",
    "    ax = fig.add_subplot(rows, cols, i + 1, projection='3d')\n",
    "    ax.plot(*curve.T, color=cmap(i), linewidth=1.5)\n",
    "    ax.set_title(labels[i], fontsize=8)\n",
    "    ax.set_xlabel(\"X\", fontsize=6)\n",
    "    ax.set_ylabel(\"Y\", fontsize=6)\n",
    "    ax.set_zlabel(\"Z\", fontsize=6)\n",
    "    ax.set_xticks([]); ax.set_yticks([]); ax.set_zticks([])\n",
    "\n",
    "    ax.tick_params(labelsize=6)\n",
    "    ax.view_init(elev=0, azim=270)\n",
    "\n",
    "plt.tight_layout()\n",
    "plt.suptitle(\"Middle 'Squiggle' of Each Curve (X-Z view)\", fontsize=16, y=1.02)\n",
    "plt.subplots_adjust(top=0.92)\n",
    "plt.show()\n"
   ]
  },
  {
   "cell_type": "code",
   "execution_count": 125,
   "id": "25e871de",
   "metadata": {},
   "outputs": [
    {
     "name": "stdout",
     "output_type": "stream",
     "text": [
      "63.005867402727965\n",
      "[19.76983377  1.77154364 23.47870128]\n"
     ]
    }
   ],
   "source": [
    "middle_lengths= []\n",
    "amps = np.zeros((27,3))\n",
    "\n",
    "for i, curve in enumerate(centered_curves):\n",
    "    length = np.sum(np.linalg.norm(np.diff(centered_curves[i], axis=0), axis=1))\n",
    "    middle_lengths.append(length)\n",
    "    amp = np.ptp(centered_curves[i], axis=0)\n",
    "    amps[i,:] = amp\n",
    "    #print(f\"{labels[i]} → Mid-length: {length:.2f} mm, Amplitude: {amp}\")\n",
    "print(sum(middle_lengths)/len(middle_lengths))\n",
    "print(np.mean(amps, 0))"
   ]
  },
  {
   "cell_type": "markdown",
   "id": "872fc3f8",
   "metadata": {},
   "source": [
    "# Frekvens på Z-akse"
   ]
  },
  {
   "cell_type": "code",
   "execution_count": 126,
   "id": "099b11c6",
   "metadata": {},
   "outputs": [],
   "source": [
    "from scipy.fft import fft, fftfreq\n",
    "components = ['X', 'Y', 'Z']\n",
    "plt.figure(figsize=(16, 10))\n",
    "\n",
    "for j, axis in enumerate([0, 1, 2]):  # 0 = X, 1 = Y, 2 = Z\n",
    "    plt.subplot(3, 1, j + 1)\n",
    "    \n",
    "    for i, curve in enumerate(aligned_curves):\n",
    "        signal = curve[:, axis]\n",
    "        N = len(signal)\n",
    "        L = curve_length(curve)\n",
    "        spacing = L / N\n",
    "\n",
    "        F = fft(signal)\n",
    "        freqs_mm = fftfreq(N, d=spacing)\n",
    "        idx = (freqs_mm > 0) & (freqs_mm <= 0.1)  # zoom\n",
    "\n",
    "        spectrum = 2.0 / N * np.abs(F[idx])\n",
    "        plt.plot(freqs_mm[idx], spectrum, label=labels[i], alpha=0.4)\n",
    "\n",
    "    plt.title(f\"Frekvensspektrum af {components[j]}-komponent (0–0.1 [1/mm])\")\n",
    "    plt.xlabel(\"Frekvens [1/mm]\")\n",
    "    plt.ylabel(\"Amplitude\")\n",
    "    plt.grid(True)\n",
    "\n",
    "plt.tight_layout()\n",
    "plt.show()\n"
   ]
  },
  {
   "cell_type": "code",
   "execution_count": 127,
   "id": "14bb1308",
   "metadata": {},
   "outputs": [
    {
     "name": "stdout",
     "output_type": "stream",
     "text": [
      "Dominerende frekvens pr. komponent (i [1/mm]):\n",
      "\n",
      "Pipe 01 – Curve 4         → X: 0.0040, Y: 0.0040, Z: 0.0160\n",
      "Pipe 01 – Curve 5         → X: 0.0039, Y: 0.0039, Z: 0.0039\n",
      "Pipe 02 – Curve 3         → X: 0.0044, Y: 0.0044, Z: 0.0044\n",
      "Pipe 02 – Curve 4         → X: 0.0034, Y: 0.0034, Z: 0.0135\n",
      "Pipe 03 – Curve 1         → X: 0.0047, Y: 0.0047, Z: 0.0189\n",
      "Pipe 03 – Curve 4         → X: 0.0057, Y: 0.0057, Z: 0.0057\n",
      "Pipe 04 – Curve 2         → X: 0.0026, Y: 0.0026, Z: 0.0104\n",
      "Pipe 05 – Curve 3         → X: 0.0045, Y: 0.0045, Z: 0.0045\n",
      "Pipe 05 – Curve 4         → X: 0.0047, Y: 0.0047, Z: 0.0047\n",
      "Pipe 05 – Curve 5         → X: 0.0039, Y: 0.0039, Z: 0.0158\n",
      "Pipe 06 – Curve 2         → X: 0.0038, Y: 0.0038, Z: 0.0077\n",
      "Pipe 06 – Curve 4         → X: 0.0038, Y: 0.0038, Z: 0.0038\n",
      "Pipe 06 – Curve 5         → X: 0.0043, Y: 0.0043, Z: 0.0043\n",
      "Pipe 07 – Curve 1         → X: 0.0040, Y: 0.0040, Z: 0.0040\n",
      "Pipe 07 – Curve 2         → X: 0.0039, Y: 0.0039, Z: 0.0154\n",
      "Pipe 07 – Curve 3         → X: 0.0035, Y: 0.0035, Z: 0.0035\n",
      "Pipe 07 – Curve 4         → X: 0.0043, Y: 0.0043, Z: 0.0173\n",
      "Pipe 08 – Curve 1         → X: 0.0046, Y: 0.0046, Z: 0.0046\n",
      "Pipe 08 – Curve 3         → X: 0.0036, Y: 0.0036, Z: 0.0036\n",
      "Pipe 08 – Curve 4         → X: 0.0035, Y: 0.0035, Z: 0.0035\n",
      "Pipe 08 – Curve 5         → X: 0.0041, Y: 0.0041, Z: 0.0164\n",
      "Pipe 09 – Curve 2         → X: 0.0035, Y: 0.0035, Z: 0.0140\n",
      "Pipe 09 – Curve 4         → X: 0.0042, Y: 0.0042, Z: 0.0168\n",
      "Pipe 10 – Curve 1         → X: 0.0048, Y: 0.0048, Z: 0.0048\n",
      "Pipe 10 – Curve 2         → X: 0.0038, Y: 0.0038, Z: 0.0151\n",
      "Pipe 10 – Curve 3         → X: 0.0032, Y: 0.0032, Z: 0.0128\n",
      "Pipe 10 – Curve 4         → X: 0.0044, Y: 0.0044, Z: 0.0175\n"
     ]
    }
   ],
   "source": [
    "print(\"Dominerende frekvens pr. komponent (i [1/mm]):\\n\")\n",
    "\n",
    "for i, curve in enumerate(aligned_curves):\n",
    "    dom_freqs = []\n",
    "    N = len(curve)\n",
    "    L = curve_length(curve)\n",
    "    spacing = L / N\n",
    "\n",
    "    for axis in range(3):\n",
    "        signal = curve[:, axis]\n",
    "        F = fft(signal)\n",
    "        freqs_mm = fftfreq(N, d=spacing)\n",
    "        idx = freqs_mm > 0\n",
    "        dominant_freq = freqs_mm[idx][np.argmax(np.abs(F[idx]))]\n",
    "        dom_freqs.append(dominant_freq)\n",
    "    \n",
    "    print(f\"{labels[i]:<25} → X: {dom_freqs[0]:.4f}, Y: {dom_freqs[1]:.4f}, Z: {dom_freqs[2]:.4f}\")\n"
   ]
  },
  {
   "cell_type": "code",
   "execution_count": 128,
   "id": "e4ac6062",
   "metadata": {},
   "outputs": [
    {
     "name": "stdout",
     "output_type": "stream",
     "text": [
      "Kurve                             Frekvens [1/mm]     Bølgelængde [mm]     Kurvelængde [mm]    Antal bølger\n",
      "---------------------------------------------------------------------------------------------------------\n",
      "Pipe 01 – Curve 4                          0.0160                62.39               249.57            4.00\n",
      "Pipe 01 – Curve 5                          0.0039               253.51               253.51            1.00\n",
      "Pipe 02 – Curve 3                          0.0044               226.69               226.69            1.00\n",
      "Pipe 02 – Curve 4                          0.0135                74.19               296.75            4.00\n",
      "Pipe 03 – Curve 1                          0.0189                53.00               211.98            4.00\n",
      "Pipe 03 – Curve 4                          0.0057               175.71               175.71            1.00\n",
      "Pipe 04 – Curve 2                          0.0104                96.35               385.41            4.00\n",
      "Pipe 05 – Curve 3                          0.0045               222.99               222.99            1.00\n",
      "Pipe 05 – Curve 4                          0.0047               212.66               212.66            1.00\n",
      "Pipe 05 – Curve 5                          0.0158                63.30               253.18            4.00\n",
      "Pipe 06 – Curve 2                          0.0077               130.64               261.29            2.00\n",
      "Pipe 06 – Curve 4                          0.0038               261.16               261.16            1.00\n",
      "Pipe 06 – Curve 5                          0.0043               232.53               232.53            1.00\n",
      "Pipe 07 – Curve 1                          0.0040               246.99               246.99            1.00\n",
      "Pipe 07 – Curve 2                          0.0154                64.82               259.30            4.00\n",
      "Pipe 07 – Curve 3                          0.0035               282.04               282.04            1.00\n",
      "Pipe 07 – Curve 4                          0.0173                57.80               231.21            4.00\n",
      "Pipe 08 – Curve 1                          0.0046               215.46               215.46            1.00\n",
      "Pipe 08 – Curve 3                          0.0036               279.47               279.47            1.00\n",
      "Pipe 08 – Curve 4                          0.0035               282.62               282.62            1.00\n",
      "Pipe 08 – Curve 5                          0.0164                61.10               244.41            4.00\n",
      "Pipe 09 – Curve 2                          0.0140                71.42               285.66            4.00\n",
      "Pipe 09 – Curve 4                          0.0168                59.57               238.30            4.00\n",
      "Pipe 10 – Curve 1                          0.0048               210.34               210.34            1.00\n",
      "Pipe 10 – Curve 2                          0.0151                66.26               265.04            4.00\n",
      "Pipe 10 – Curve 3                          0.0128                78.02               312.07            4.00\n",
      "Pipe 10 – Curve 4                          0.0175                57.28               229.11            4.00\n"
     ]
    }
   ],
   "source": [
    "print(f\"{'Kurve':<30} {'Frekvens [1/mm]':>18} {'Bølgelængde [mm]':>20} {'Kurvelængde [mm]':>20} {'Antal bølger':>15}\")\n",
    "print(\"-\" * 105)\n",
    "\n",
    "for i, curve in enumerate(aligned_curves):\n",
    "    z = curve[:, 2]\n",
    "    N = len(z)\n",
    "    L = curve_length(curve)  # total længde i mm\n",
    "    spacing = L / N\n",
    "\n",
    "    Z = fft(z)\n",
    "    freqs = fftfreq(N, d=spacing)\n",
    "    idx = freqs > 0\n",
    "    dominant_freq = freqs[idx][np.argmax(np.abs(Z[idx]))]\n",
    "    wavelength = 1 / dominant_freq if dominant_freq > 0 else float('inf')\n",
    "    num_waves = L / wavelength if wavelength > 0 else 0\n",
    "\n",
    "    print(f\"{labels[i]:<30} {dominant_freq:>18.4f} {wavelength:>20.2f} {L:>20.2f} {num_waves:>15.2f}\")\n"
   ]
  },
  {
   "cell_type": "code",
   "execution_count": 129,
   "id": "32672bd3",
   "metadata": {},
   "outputs": [
    {
     "name": "stdout",
     "output_type": "stream",
     "text": [
      "Pipe 01 – Curve 4              → Estimerede bølger i Z: 6.5\n",
      "Pipe 01 – Curve 5              → Estimerede bølger i Z: 5.5\n",
      "Pipe 02 – Curve 3              → Estimerede bølger i Z: 4.5\n",
      "Pipe 02 – Curve 4              → Estimerede bølger i Z: 4.5\n",
      "Pipe 03 – Curve 1              → Estimerede bølger i Z: 4.5\n",
      "Pipe 03 – Curve 4              → Estimerede bølger i Z: 3.5\n",
      "Pipe 04 – Curve 2              → Estimerede bølger i Z: 3.5\n",
      "Pipe 05 – Curve 3              → Estimerede bølger i Z: 3.5\n",
      "Pipe 05 – Curve 4              → Estimerede bølger i Z: 3.5\n",
      "Pipe 05 – Curve 5              → Estimerede bølger i Z: 4.5\n",
      "Pipe 06 – Curve 2              → Estimerede bølger i Z: 3.5\n",
      "Pipe 06 – Curve 4              → Estimerede bølger i Z: 3.5\n",
      "Pipe 06 – Curve 5              → Estimerede bølger i Z: 3.5\n",
      "Pipe 07 – Curve 1              → Estimerede bølger i Z: 3.5\n",
      "Pipe 07 – Curve 2              → Estimerede bølger i Z: 4.5\n",
      "Pipe 07 – Curve 3              → Estimerede bølger i Z: 3.5\n",
      "Pipe 07 – Curve 4              → Estimerede bølger i Z: 3.5\n",
      "Pipe 08 – Curve 1              → Estimerede bølger i Z: 3.5\n",
      "Pipe 08 – Curve 3              → Estimerede bølger i Z: 3.5\n",
      "Pipe 08 – Curve 4              → Estimerede bølger i Z: 4.5\n",
      "Pipe 08 – Curve 5              → Estimerede bølger i Z: 5.5\n",
      "Pipe 09 – Curve 2              → Estimerede bølger i Z: 4.5\n",
      "Pipe 09 – Curve 4              → Estimerede bølger i Z: 5.5\n",
      "Pipe 10 – Curve 1              → Estimerede bølger i Z: 3.5\n",
      "Pipe 10 – Curve 2              → Estimerede bølger i Z: 7.5\n",
      "Pipe 10 – Curve 3              → Estimerede bølger i Z: 5.5\n",
      "Pipe 10 – Curve 4              → Estimerede bølger i Z: 5.5\n"
     ]
    }
   ],
   "source": [
    "from scipy.signal import find_peaks\n",
    "\n",
    "for i, curve in enumerate(aligned_curves):\n",
    "    z = curve[:, 2]\n",
    "    peaks, _ = find_peaks(z)\n",
    "    valleys, _ = find_peaks(-z)\n",
    "    num_waves = (len(peaks) + len(valleys)) / 2\n",
    "\n",
    "    print(f\"{labels[i]:<30} → Estimerede bølger i Z: {num_waves:.1f}\")\n"
   ]
  },
  {
   "cell_type": "markdown",
   "id": "4ce112d9",
   "metadata": {},
   "source": [
    "# Lokal maks og min"
   ]
  },
  {
   "cell_type": "code",
   "execution_count": 130,
   "id": "e80b7e64",
   "metadata": {},
   "outputs": [],
   "source": [
    "from scipy.signal import find_peaks\n",
    "\n",
    "fig = plt.figure(figsize=(cols * 3, rows * 3))\n",
    "\n",
    "for i, curve in enumerate(aligned_curves):\n",
    "    x, y, z = curve.T\n",
    "    peaks, _ = find_peaks(z)\n",
    "    valleys, _ = find_peaks(-z)\n",
    "\n",
    "    ax = fig.add_subplot(rows, cols, i + 1, projection='3d')\n",
    "    ax.plot(x, y, z, color='gray', linewidth=1.0)\n",
    "    ax.scatter(x[peaks], y[peaks], z[peaks], color='red', marker='^', label='Toppe')\n",
    "    ax.scatter(x[valleys], y[valleys], z[valleys], color='blue', marker='v', label='Dale')\n",
    "\n",
    "    ax.set_title(labels[i], fontsize=8)\n",
    "    ax.set_xlabel(\"X\", fontsize=6)\n",
    "    ax.set_ylabel(\"Y\", fontsize=6)\n",
    "    ax.set_zlabel(\"Z\", fontsize=6)\n",
    "    ax.tick_params(labelsize=6)\n",
    "    ax.view_init(elev=0, azim=90)\n",
    "\n",
    "# Justering\n",
    "plt.tight_layout()\n",
    "plt.suptitle(\"3D-visning af kurver med Z-toppe og -dale\", fontsize=14, y=1.02)\n",
    "plt.subplots_adjust(top=0.92)\n",
    "plt.show()\n"
   ]
  },
  {
   "cell_type": "markdown",
   "id": "806eb88a",
   "metadata": {},
   "source": [
    "# Gennemsnitskurve"
   ]
  },
  {
   "cell_type": "markdown",
   "id": "e1d0003f",
   "metadata": {},
   "source": [
    "### Lav den"
   ]
  },
  {
   "cell_type": "code",
   "execution_count": 131,
   "id": "5fb0a68c",
   "metadata": {},
   "outputs": [],
   "source": [
    "from scipy.interpolate import interp1d\n",
    "\n",
    "def reparameterize_by_arclength(curve, num_points=1000):\n",
    "    # 1. Beregn kumulativ længde\n",
    "    deltas = np.diff(curve, axis=0)\n",
    "    segment_lengths = np.linalg.norm(deltas, axis=1)\n",
    "    cumulative_length = np.insert(np.cumsum(segment_lengths), 0, 0)\n",
    "    total_length = cumulative_length[-1]\n",
    "    s = cumulative_length / total_length  # normaliseret arc length i [0,1]\n",
    "\n",
    "    # 2. Interpolér X, Y, Z som funktion af s\n",
    "    x_interp = interp1d(s, curve[:, 0], kind='linear')\n",
    "    y_interp = interp1d(s, curve[:, 1], kind='linear')\n",
    "    z_interp = interp1d(s, curve[:, 2], kind='linear')\n",
    "\n",
    "    s_uniform = np.linspace(0, 1, num_points)\n",
    "    reparam_curve = np.stack([\n",
    "        x_interp(s_uniform),\n",
    "        y_interp(s_uniform),\n",
    "        z_interp(s_uniform)\n",
    "    ], axis=1)\n",
    "\n",
    "    return reparam_curve\n",
    "# Reparameteriser alle kurver efter arc length\n",
    "reparam_curves = [reparameterize_by_arclength(c, num_points=1000) for c in aligned_curves]\n",
    "\n",
    "# Brug X fra den første kurve som reference\n",
    "ref_x = reparam_curves[0][:, 0]\n",
    "\n",
    "# Udtræk Y og Z fra alle kurver og tag gennemsnit\n",
    "Y_all = np.stack([c[:, 1] for c in reparam_curves])\n",
    "Z_all = np.stack([c[:, 2] for c in reparam_curves])\n",
    "\n",
    "mean_y = np.mean(Y_all, axis=0)\n",
    "mean_z = np.mean(Z_all, axis=0)\n",
    "\n",
    "# Saml mean-kurven\n",
    "mean_curve = np.stack([ref_x, mean_y, mean_z], axis=1)\n"
   ]
  },
  {
   "cell_type": "markdown",
   "id": "fb8d53c2",
   "metadata": {},
   "source": [
    "### Suplots"
   ]
  },
  {
   "cell_type": "code",
   "execution_count": 132,
   "id": "6d684a02",
   "metadata": {},
   "outputs": [
    {
     "name": "stderr",
     "output_type": "stream",
     "text": [
      "C:\\Users\\lucca\\AppData\\Local\\Temp\\ipykernel_3136\\3926769596.py:2: MatplotlibDeprecationWarning: The get_cmap function was deprecated in Matplotlib 3.7 and will be removed in 3.11. Use ``matplotlib.colormaps[name]`` or ``matplotlib.colormaps.get_cmap()`` or ``pyplot.get_cmap()`` instead.\n",
      "  cmap = cm.get_cmap('plasma', 40)\n"
     ]
    }
   ],
   "source": [
    "\n",
    "fig = plt.figure(figsize=(cols * 3, rows * 3))\n",
    "cmap = cm.get_cmap('plasma', 40)\n",
    "for i, curve in enumerate(reparam_curves):\n",
    "    ax = fig.add_subplot(rows, cols, i + 1, projection='3d')\n",
    "    ax.plot(*curve.T, color = cmap(i), linewidth=1.0, alpha=0.7)\n",
    "    ax.plot(*mean_curve.T, color='black', linewidth=2.0)\n",
    "    \n",
    "    ax.set_title(labels[i], fontsize=8)\n",
    "    ax.tick_params(labelsize=6)\n",
    "    ax.set_xlabel(\"X\", fontsize=6)\n",
    "    ax.set_ylabel(\"Y\", fontsize=6)\n",
    "    ax.set_zlabel(\"Z\", fontsize=6)\n",
    "    ax.view_init(elev=0, azim=270)\n",
    "\n",
    "plt.tight_layout()\n",
    "plt.suptitle(\"Kurver reparameteriseret efter arc length – med gennemsnit\", fontsize=14, y=1.02)\n",
    "plt.subplots_adjust(top=0.92)\n",
    "plt.show()\n"
   ]
  },
  {
   "cell_type": "markdown",
   "id": "29b693aa",
   "metadata": {},
   "source": [
    "### Alle i et"
   ]
  },
  {
   "cell_type": "code",
   "execution_count": 133,
   "id": "509cdd50",
   "metadata": {},
   "outputs": [],
   "source": [
    "# Brug dine egne kurver i stedet for dummy data\n",
    "\n",
    "# Plot alle rigtige kurver + mean\n",
    "fig = plt.figure(figsize=(10, 6))\n",
    "ax = fig.add_subplot(111, projection='3d')\n",
    "\n",
    "for c in reparam_curves:\n",
    "    ax.plot(c[:, 0], c[:, 1], c[:, 2], color='gray', alpha=0.3)\n",
    "\n",
    "ax.plot(mean_curve[:, 0], mean_curve[:, 1], mean_curve[:, 2], color='black', linewidth=2, label='Mean Curve')\n",
    "ax.set_xlabel(\"X\")\n",
    "ax.set_ylabel(\"Y\")\n",
    "ax.set_zlabel(\"Z\")\n",
    "ax.set_title(\"Dine egne kurver (gennemsigtige) + Mean Curve (sort)\")\n",
    "ax.legend()\n",
    "plt.tight_layout()\n",
    "plt.show()\n",
    "\n"
   ]
  },
  {
   "cell_type": "markdown",
   "id": "a21b631c",
   "metadata": {},
   "source": [
    "### Stat"
   ]
  },
  {
   "cell_type": "code",
   "execution_count": 138,
   "id": "223260bf",
   "metadata": {},
   "outputs": [
    {
     "name": "stdout",
     "output_type": "stream",
     "text": [
      "\n",
      "Statistik for mean-kurven:\n",
      "\n",
      "  Coordinate       Mean    Variance  Std Deviation\n",
      "           X  -1.005650 1047.439635      32.364172\n",
      "           Y   0.714548   54.667178       7.393726\n",
      "           Z  -0.518607   84.331682       9.183228\n",
      "Total Length 221.088390         NaN            NaN\n"
     ]
    },
    {
     "name": "stderr",
     "output_type": "stream",
     "text": [
      "C:\\Users\\lucca\\AppData\\Local\\Temp\\ipykernel_3136\\1718283655.py:18: FutureWarning: The behavior of DataFrame concatenation with empty or all-NA entries is deprecated. In a future version, this will no longer exclude empty or all-NA columns when determining the result dtypes. To retain the old behavior, exclude the relevant entries before the concat operation.\n",
      "  mean_stats.loc[len(mean_stats)] = [\"Total Length\", mean_total_length, None, None]\n"
     ]
    }
   ],
   "source": [
    "import pandas as pd\n",
    "import numpy as np\n",
    "\n",
    "# Statistik for mean-kurven\n",
    "mean_diffs = np.diff(mean_curve, axis=0)\n",
    "mean_lengths = np.linalg.norm(mean_diffs, axis=1)\n",
    "mean_total_length = np.sum(mean_lengths)\n",
    "mean_var = np.var(mean_curve, axis=0)\n",
    "mean_std = np.std(mean_curve, axis=0)\n",
    "\n",
    "# Saml i DataFrame\n",
    "mean_stats = pd.DataFrame({\n",
    "    \"Coordinate\": [\"X\", \"Y\", \"Z\"],\n",
    "    \"Mean\": np.mean(mean_curve, axis=0),\n",
    "    \"Variance\": mean_var,\n",
    "    \"Std Deviation\": mean_std\n",
    "})\n",
    "mean_stats.loc[len(mean_stats)] = [\"Total Length\", mean_total_length, None, None]\n",
    "\n",
    "# Print pænt\n",
    "print(\"\\nStatistik for mean-kurven:\\n\")\n",
    "print(mean_stats.to_string(index=False))\n"
   ]
  },
  {
   "cell_type": "code",
   "execution_count": 135,
   "id": "d12494a2",
   "metadata": {},
   "outputs": [],
   "source": [
    "# Brug mean/std for X, Y og Z\n",
    "X_all = np.stack([c[:, 0] for c in reparam_curves])\n",
    "mean_x = np.mean(X_all, axis=0)\n",
    "mean_y = np.mean(Y_all, axis=0)\n",
    "mean_z = np.mean(Z_all, axis=0)\n",
    "\n",
    "std_x = np.std(X_all, axis=0)\n",
    "std_y = np.std(Y_all, axis=0)\n",
    "std_z = np.std(Z_all, axis=0)\n",
    "\n",
    "\n",
    "arc = np.linspace(0, 1, mean_x.shape[0])\n",
    "\n",
    "# Plot X, Y, Z mean ± std\n",
    "fig, axs = plt.subplots(3, 1, figsize=(10, 9), sharex=True)\n",
    "\n",
    "# X\n",
    "axs[0].plot(arc, mean_x, color='black', label='Mean X')\n",
    "axs[0].fill_between(arc, mean_x - std_x, mean_x + std_x, color='orchid', alpha=0.3, label='±1 Std')\n",
    "axs[0].set_ylabel(\"X\")\n",
    "axs[0].set_title(\"Mean ± Std Deviation\")\n",
    "axs[0].grid(True)\n",
    "axs[0].legend()\n",
    "\n",
    "# Y\n",
    "axs[1].plot(arc, mean_y, color='black', label='Mean Y')\n",
    "axs[1].fill_between(arc, mean_y - std_y, mean_y + std_y, color='orchid', alpha=0.3, label='±1 Std')\n",
    "axs[1].set_ylabel(\"Y\")\n",
    "axs[1].grid(True)\n",
    "axs[1].legend()\n",
    "\n",
    "# Z\n",
    "axs[2].plot(arc, mean_z, color='black', label='Mean Z')\n",
    "axs[2].fill_between(arc, mean_z - std_z, mean_z + std_z, color='orchid', alpha=0.3, label='±1 Std')\n",
    "axs[2].set_ylabel(\"Z\")\n",
    "axs[2].set_xlabel(\"Arc Length Position\")\n",
    "axs[2].grid(True)\n",
    "axs[2].legend()\n",
    "\n",
    "plt.tight_layout()\n",
    "plt.show()\n"
   ]
  },
  {
   "cell_type": "code",
   "execution_count": 136,
   "id": "ab8af568",
   "metadata": {},
   "outputs": [
    {
     "name": "stdout",
     "output_type": "stream",
     "text": [
      "Pipe 01 – Curve 4         → RMS-fejl til mean: 6.5332\n",
      "Pipe 01 – Curve 5         → RMS-fejl til mean: 4.9474\n",
      "Pipe 02 – Curve 3         → RMS-fejl til mean: 4.1256\n",
      "Pipe 02 – Curve 4         → RMS-fejl til mean: 8.4481\n",
      "Pipe 03 – Curve 1         → RMS-fejl til mean: 5.1799\n",
      "Pipe 03 – Curve 4         → RMS-fejl til mean: 4.9438\n",
      "Pipe 04 – Curve 2         → RMS-fejl til mean: 9.4553\n",
      "Pipe 05 – Curve 3         → RMS-fejl til mean: 3.8530\n",
      "Pipe 05 – Curve 4         → RMS-fejl til mean: 3.2740\n",
      "Pipe 05 – Curve 5         → RMS-fejl til mean: 5.1202\n",
      "Pipe 06 – Curve 2         → RMS-fejl til mean: 8.1547\n",
      "Pipe 06 – Curve 4         → RMS-fejl til mean: 10.9126\n",
      "Pipe 06 – Curve 5         → RMS-fejl til mean: 3.7247\n",
      "Pipe 07 – Curve 1         → RMS-fejl til mean: 6.8355\n",
      "Pipe 07 – Curve 2         → RMS-fejl til mean: 3.5427\n",
      "Pipe 07 – Curve 3         → RMS-fejl til mean: 4.0879\n",
      "Pipe 07 – Curve 4         → RMS-fejl til mean: 8.3482\n",
      "Pipe 08 – Curve 1         → RMS-fejl til mean: 2.1758\n",
      "Pipe 08 – Curve 3         → RMS-fejl til mean: 12.6483\n",
      "Pipe 08 – Curve 4         → RMS-fejl til mean: 2.9107\n",
      "Pipe 08 – Curve 5         → RMS-fejl til mean: 5.1649\n",
      "Pipe 09 – Curve 2         → RMS-fejl til mean: 5.1033\n",
      "Pipe 09 – Curve 4         → RMS-fejl til mean: 6.3571\n",
      "Pipe 10 – Curve 1         → RMS-fejl til mean: 4.9259\n",
      "Pipe 10 – Curve 2         → RMS-fejl til mean: 3.1539\n",
      "Pipe 10 – Curve 3         → RMS-fejl til mean: 4.6758\n",
      "Pipe 10 – Curve 4         → RMS-fejl til mean: 6.9828\n"
     ]
    }
   ],
   "source": [
    "import matplotlib.pyplot as plt\n",
    "import numpy as np\n",
    "\n",
    "arc = np.linspace(0, 1, mean_z.shape[0])  # eller len(mean_z) hvis du er i tvivl\n",
    "\n",
    "plt.figure(figsize=(10, 4))\n",
    "plt.plot(arc, mean_z, color='black', label=\"Mean Z\")\n",
    "plt.fill_between(arc, mean_z - std_z, mean_z + std_z, color='gray', alpha=0.4, label=\"±1 Std Z\")\n",
    "plt.title(\"Mean Z with ±1 Std Deviation Band\")\n",
    "plt.xlabel(\"Arc Length Position\")\n",
    "plt.ylabel(\"Z\")\n",
    "plt.grid(True)\n",
    "plt.legend()\n",
    "plt.tight_layout()\n",
    "plt.show()\n",
    "rms_errors = []\n",
    "for c in reparam_curves:\n",
    "    dy = c[:, 1] - mean_y\n",
    "    dz = c[:, 2] - mean_z\n",
    "    rms = np.sqrt(np.mean(dy**2 + dz**2))\n",
    "    rms_errors.append(rms)\n",
    "\n",
    "# Print eller brug som du vil\n",
    "for i, rms in enumerate(rms_errors):\n",
    "    print(f\"{labels[i]:<25} → RMS-fejl til mean: {rms:.4f}\")\n"
   ]
  },
  {
   "cell_type": "code",
   "execution_count": 139,
   "id": "057d9c13",
   "metadata": {},
   "outputs": [],
   "source": [
    "import numpy as np\n",
    "import matplotlib.pyplot as plt\n",
    "from mpl_toolkits.mplot3d import Axes3D\n",
    "\n",
    "\n",
    "# Sort and select best and worst\n",
    "indexed_curves = list(zip(labels, reparam_curves, rms_errors))\n",
    "sorted_curves = sorted(indexed_curves, key=lambda x: x[2])\n",
    "best = sorted_curves[:3]\n",
    "worst = sorted_curves[-3:]\n",
    "\n",
    "# Plot in 3D\n",
    "fig = plt.figure(figsize=(15, 10))\n",
    "titles = [\"Best 1\", \"Best 2\", \"Best 3\", \"Worst 3\", \"Worst 2\", \"Worst 1\"]\n",
    "\n",
    "for i, (label, curve, _) in enumerate(best + worst[::-1]):\n",
    "    ax = fig.add_subplot(2, 3, i+1, projection='3d')\n",
    "    ax.plot(curve[:, 0], curve[:, 1], curve[:, 2], label='Original', linestyle='--', color = \"orchid\")\n",
    "    ax.plot(mean_curve[:, 0], mean_curve[:, 1], mean_curve[:, 2], color='black', label='Mean')\n",
    "    ax.set_title(f\"{titles[i]}: {label}\")\n",
    "    ax.set_xticks([]); ax.set_yticks([]); ax.set_zticks([])\n",
    "    ax.set_xlabel(\"X\", fontsize=7)\n",
    "    ax.set_ylabel(\"Y\", fontsize=7)\n",
    "    ax.set_zlabel(\"Z\", fontsize=7)\n",
    "    ax.view_init(elev=0, azim=270)\n",
    "    ax.grid(True)\n",
    "\n",
    "plt.tight_layout(pad=0.5)\n",
    "plt.subplots_adjust(top=0.88)\n",
    "plt.show()\n"
   ]
  },
  {
   "cell_type": "markdown",
   "id": "e13fee38",
   "metadata": {},
   "source": [
    "# Næste"
   ]
  }
 ],
 "metadata": {
  "kernelspec": {
   "display_name": "fagprojekt",
   "language": "python",
   "name": "python3"
  },
  "language_info": {
   "codemirror_mode": {
    "name": "ipython",
    "version": 3
   },
   "file_extension": ".py",
   "mimetype": "text/x-python",
   "name": "python",
   "nbconvert_exporter": "python",
   "pygments_lexer": "ipython3",
   "version": "3.13.2"
  }
 },
 "nbformat": 4,
 "nbformat_minor": 5
}
