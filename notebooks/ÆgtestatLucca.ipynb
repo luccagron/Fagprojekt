{
 "cells": [
  {
   "cell_type": "code",
   "execution_count": null,
   "id": "b9cce6e4",
   "metadata": {},
   "outputs": [],
   "source": [
    "import numpy as np\n",
    "import os\n",
    "import re\n",
    "import glob\n",
    "\n",
    "curve_paths = sorted(glob.glob(\"../Data/Skalerede kurver/*.csv\"))\n",
    "# Læs kurver\n",
    "aligned_curves = [np.loadtxt(path, delimiter=\",\") for path in curve_paths]\n",
    "\n",
    "# Oversæt og hent rørnummer fra filnavn\n",
    "def translate_filename(filename):\n",
    "    match = re.search(r\"Rør(\\d+)Kurve(\\d+)\", filename)\n",
    "    if match:\n",
    "        pipe_num = match.group(1)\n",
    "        curve_num = match.group(2)\n",
    "        return f\"Pipe {pipe_num} - Suture {curve_num}\"\n",
    "    return filename\n",
    "\n",
    "labels = [translate_filename(os.path.basename(p).replace(\"_PC\", \"\")) for p in curve_paths]\n",
    "\n",
    "\n",
    "# Nu har du aligned_curves i mm 💖\n"
   ]
  },
  {
   "cell_type": "markdown",
   "id": "27516cba",
   "metadata": {},
   "source": [
    "# Længde"
   ]
  },
  {
   "cell_type": "code",
   "execution_count": 81,
   "id": "2bc0eb91",
   "metadata": {},
   "outputs": [
    {
     "name": "stdout",
     "output_type": "stream",
     "text": [
      "Pipe 01 - Suture 4        → Length: 4.72 mm\n",
      "Pipe 01 - Suture 5        → Length: 4.80 mm\n",
      "Pipe 02 - Suture 3        → Length: 3.84 mm\n",
      "Pipe 02 - Suture 4        → Length: 5.03 mm\n",
      "Pipe 03 - Suture 1        → Length: 4.65 mm\n",
      "Pipe 03 - Suture 4        → Length: 3.85 mm\n",
      "Pipe 04 - Suture 1        → Length: 7.10 mm\n",
      "Pipe 04 - Suture 2        → Length: 4.69 mm\n",
      "Pipe 05 - Suture 3        → Length: 4.36 mm\n",
      "Pipe 05 - Suture 4        → Length: 4.15 mm\n",
      "Pipe 05 - Suture 5        → Length: 4.95 mm\n",
      "Pipe 06 - Suture 2        → Length: 4.78 mm\n",
      "Pipe 06 - Suture 4        → Length: 4.78 mm\n",
      "Pipe 06 - Suture 5        → Length: 4.26 mm\n",
      "Pipe 07 - Suture 1        → Length: 4.52 mm\n",
      "Pipe 07 - Suture 2        → Length: 4.75 mm\n",
      "Pipe 07 - Suture 3        → Length: 5.16 mm\n",
      "Pipe 07 - Suture 4        → Length: 4.23 mm\n",
      "Pipe 08 - Suture 1        → Length: 4.37 mm\n",
      "Pipe 08 - Suture 3        → Length: 5.67 mm\n",
      "Pipe 08 - Suture 4        → Length: 5.73 mm\n",
      "Pipe 08 - Suture 5        → Length: 4.96 mm\n",
      "Pipe 09 - Suture 2        → Length: 5.41 mm\n",
      "Pipe 09 - Suture 4        → Length: 4.51 mm\n",
      "Pipe 10 - Suture 1        → Length: 3.85 mm\n",
      "Pipe 10 - Suture 2        → Length: 4.85 mm\n",
      "Pipe 10 - Suture 3        → Length: 5.71 mm\n",
      "Pipe 10 - Suture 4        → Length: 4.19 mm\n",
      "\n",
      "📏 Statistik over kurve-længder (i mm):\n",
      "Min:         3.84\n",
      "Maks:        7.10\n",
      "Gennemsnit:  4.78\n",
      "Std. afvig:  0.69\n"
     ]
    }
   ],
   "source": [
    "def curve_length(curve):\n",
    "    \"\"\"\n",
    "    Beregner den fysiske længde af en kurve i mm, givet koordinater i voxler.\n",
    "    \"\"\"\n",
    "    return np.sum(np.linalg.norm(np.diff(curve, axis=0), axis=1))\n",
    "\n",
    "# Beregn længder i millimeter\n",
    "lengths = [curve_length(curve) for curve in aligned_curves]\n",
    "\n",
    "# Udskriv længder for hver kurve\n",
    "for name, L in zip(labels, lengths):\n",
    "    print(f\"{name:<25} → Length: {L:.2f} mm\")\n",
    "\n",
    "lengths = np.array(lengths)\n",
    "\n",
    "# Statistik\n",
    "print(\"\\n📏 Statistik over kurve-længder (i mm):\")\n",
    "print(f\"Min:         {lengths.min():.2f}\")\n",
    "print(f\"Maks:        {lengths.max():.2f}\")\n",
    "print(f\"Gennemsnit:  {lengths.mean():.2f}\")\n",
    "print(f\"Std. afvig:  {lengths.std(ddof=1):.2f}\")"
   ]
  },
  {
   "cell_type": "code",
   "execution_count": 77,
   "id": "221b5099",
   "metadata": {},
   "outputs": [],
   "source": [
    "plt.figure(figsize=(12, 5))\n",
    "plt.bar(labels, lengths, color='orchid')\n",
    "plt.xticks(rotation=90)\n",
    "plt.axhline(y=264.59, color='black', linestyle='--', linewidth=1.5, label='Mean length')\n",
    "plt.ylabel(\"Length [mm]\")\n",
    "plt.title(\"Length of aligned 3D curves\")\n",
    "plt.tight_layout()\n",
    "plt.show()\n"
   ]
  },
  {
   "cell_type": "code",
   "execution_count": null,
   "id": "81c73a9a",
   "metadata": {},
   "outputs": [],
   "source": [
    "import matplotlib.pyplot as plt\n",
    "import seaborn as sns\n",
    "import numpy as np\n",
    "\n",
    "# Beregn længder hvis ikke allerede gjort\n",
    "def curve_length(curve):\n",
    "    return np.sum(np.linalg.norm(np.diff(curve, axis=0), axis=1))\n",
    "\n",
    "lengths = [curve_length(curve) for curve in aligned_curves]\n",
    "\n",
    "# Violinplot med seaborn\n",
    "plt.figure(figsize=(8, 6))\n",
    "sns.violinplot(data=lengths, inner='box', orient='h', color='orchid')\n",
    "\n",
    "plt.title(\"Fordeling af kraniekurvelængder\", fontsize=14)\n",
    "plt.xlabel(\"Længde (mm)\")\n",
    "plt.tight_layout()\n",
    "plt.show()\n"
   ]
  },
  {
   "cell_type": "code",
   "execution_count": null,
   "id": "c345bdf5",
   "metadata": {},
   "outputs": [],
   "source": [
    "import matplotlib.pyplot as plt\n",
    "import seaborn as sns\n",
    "import numpy as np\n",
    "\n",
    "# Dine længder\n",
    "def curve_length(curve):\n",
    "    return np.sum(np.linalg.norm(np.diff(curve, axis=0), axis=1))\n",
    "\n",
    "lengths = [curve_length(curve) for curve in aligned_curves]\n",
    "\n",
    "plt.figure(figsize=(10, 6))\n",
    "\n",
    "# Violinplot\n",
    "sns.violinplot(y=lengths, inner=None, color=\"skyblue\", linewidth=1)\n",
    "\n",
    "# Stripplot (punkter ovenpå)\n",
    "sns.stripplot(y=lengths, color=\"black\", size=5, jitter=0.2, alpha=0.7)\n",
    "\n",
    "# Boxplot (hvis du vil)\n",
    "sns.boxplot(y=lengths, width=0.15, color=\"white\", showcaps=True, boxprops={'zorder': 2})\n",
    "\n",
    "plt.title(\"Raincloud-style plot af kurvelængder\")\n",
    "plt.ylabel(\"Længde (mm)\")\n",
    "plt.xticks([])  # ingen x-akse da vi kun har én kategori\n",
    "plt.tight_layout()\n",
    "plt.show()\n"
   ]
  },
  {
   "cell_type": "markdown",
   "id": "19221099",
   "metadata": {},
   "source": [
    "# Midter squiggle"
   ]
  },
  {
   "cell_type": "code",
   "execution_count": 24,
   "id": "b71d82e2",
   "metadata": {},
   "outputs": [],
   "source": [
    "def extract_middle_section(curve, fraction=0.16):\n",
    "    \"\"\"\n",
    "    Returnerer den midterste del af kurven.\n",
    "    fraction=0.3 → midterste 30%\n",
    "    \"\"\"\n",
    "    n = len(curve)\n",
    "    mid = n // 2\n",
    "    half_window = int(n * fraction / 2)\n",
    "    return curve[mid - half_window : mid + half_window]\n"
   ]
  },
  {
   "cell_type": "markdown",
   "id": "b4e9c3dc",
   "metadata": {},
   "source": [
    "### Kun midte plot"
   ]
  },
  {
   "cell_type": "code",
   "execution_count": null,
   "id": "1acc4ec7",
   "metadata": {},
   "outputs": [
    {
     "name": "stderr",
     "output_type": "stream",
     "text": [
      "C:\\Users\\lucca\\AppData\\Local\\Temp\\ipykernel_11984\\1229060484.py:8: MatplotlibDeprecationWarning: The get_cmap function was deprecated in Matplotlib 3.7 and will be removed in 3.11. Use ``matplotlib.colormaps[name]`` or ``matplotlib.colormaps.get_cmap()`` or ``pyplot.get_cmap()`` instead.\n",
      "  cmap = cm.get_cmap('plasma', 40)  # alternativt 'tab10', 'Set1', 'turbo'  # eller 'nipy_spectral', 'viridis' osv.\n"
     ]
    }
   ],
   "source": [
    "import matplotlib.cm as cm\n",
    "# Plot-indstillinger\n",
    "n = len(aligned_curves)\n",
    "rows, cols = 4, 7  # Justér hvis du har flere/færre kurver\n",
    "\n",
    "fig = plt.figure(figsize=(cols * 3, rows * 3))\n",
    "n = len(aligned_curves)\n",
    "cmap = cm.get_cmap('plasma', 40)  # alternativt 'tab10', 'Set1', 'turbo'  # eller 'nipy_spectral', 'viridis' osv.\n",
    "\n",
    "for i, curve in enumerate(aligned_curves):\n",
    "    ax = fig.add_subplot(rows, cols, i + 1, projection='3d')\n",
    "    \n",
    "    mid = extract_middle_section(curve, fraction=0.25)\n",
    "    ax.plot(*mid.T, color=cmap(i), linewidth=1.5)\n",
    "    ax.set_xticks([]); ax.set_yticks([]); ax.set_zticks([])\n",
    "    ax.set_title(labels[i], fontsize=8)\n",
    "    ax.set_xlabel(\"X\", fontsize=6)\n",
    "    ax.set_ylabel(\"Y\", fontsize=6)\n",
    "    ax.set_zlabel(\"Z\", fontsize=6)\n",
    "    ax.tick_params(labelsize=6)\n",
    "    ax.view_init(elev=0, azim=90) \n",
    "\n",
    "plt.tight_layout()\n",
    "plt.suptitle(\"Middle 'Squiggle' of Each Curve\", fontsize=16, y=1.02)\n",
    "plt.subplots_adjust(top=0.92)\n",
    "plt.show()"
   ]
  },
  {
   "cell_type": "markdown",
   "id": "f17aeee5",
   "metadata": {},
   "source": [
    "### Midte og lidt ryk plot"
   ]
  },
  {
   "cell_type": "code",
   "execution_count": null,
   "id": "ddd28f31",
   "metadata": {},
   "outputs": [
    {
     "name": "stderr",
     "output_type": "stream",
     "text": [
      "C:\\Users\\lucca\\AppData\\Local\\Temp\\ipykernel_27376\\2304350726.py:34: MatplotlibDeprecationWarning: The get_cmap function was deprecated in Matplotlib 3.7 and will be removed in 3.11. Use ``matplotlib.colormaps[name]`` or ``matplotlib.colormaps.get_cmap()`` or ``pyplot.get_cmap()`` instead.\n",
      "  cmap = cm.get_cmap('plasma', 40)\n"
     ]
    }
   ],
   "source": [
    "def extract_middle_section(curve, fraction=0.25, shift=0):\n",
    "    \"\"\"\n",
    "    Returnerer midtersektionen af kurven, med valgfri forskydning.\n",
    "    - fraction: hvor stor del af kurven du vil tage (som andel, fx 0.25)\n",
    "    - shift: hvor mange punkter forskydes vinduet (positiv = højre, negativ = venstre)\n",
    "    \"\"\"\n",
    "    n = len(curve)\n",
    "    mid = n // 2 + shift\n",
    "    half_window = int(n * fraction / 2)\n",
    "    start = max(0, mid - half_window)\n",
    "    end = min(n, mid + half_window)\n",
    "    return curve[start:end]\n",
    "\n",
    "# Dine manuelle justeringer\n",
    "# Dine tilpasninger – nu i antal punkter (fx ±20 ud af 1000)\n",
    "shifts = {\n",
    "    3:  40,   # ryk lidt til højre (langs kurven)\n",
    "    10: -40,\n",
    "    22: -30,\n",
    "    9: -30,  # ryk lidt til venstre\n",
    "    20: 40\n",
    "}\n",
    "\n",
    "\n",
    "# Udtræk midterstykker med tilpasning (KUN forskel på dem du angiver)\n",
    "centered_curves = []\n",
    "for i, curve in enumerate(aligned_curves):\n",
    "    shift = shifts.get(i, 0)\n",
    "    section = extract_middle_section(curve, fraction=0.25, shift=shift)\n",
    "    centered_curves.append(section)\n",
    "\n",
    "fig = plt.figure(figsize=(cols * 3, rows * 3))\n",
    "n = len(centered_curves)\n",
    "cmap = cm.get_cmap('plasma', 40)\n",
    "\n",
    "for i, curve in enumerate(centered_curves):\n",
    "    ax = fig.add_subplot(rows, cols, i + 1, projection='3d')\n",
    "    ax.plot(*curve.T, color=cmap(i), linewidth=1.5)\n",
    "    ax.set_title(labels[i], fontsize=15)\n",
    "    ax.set_xlabel(\"X\", fontsize=6)\n",
    "    ax.set_ylabel(\"Y\", fontsize=6)\n",
    "    ax.set_zlabel(\"Z\", fontsize=6)\n",
    "    ax.set_xticks([]); ax.set_yticks([]); ax.set_zticks([])\n",
    "\n",
    "    ax.tick_params(labelsize=6)\n",
    "    ax.view_init(elev=0, azim=270)\n",
    "\n",
    "plt.tight_layout()\n",
    "plt.suptitle(\"Middle 'Squiggle' of Each Curve (X-Z view)\", fontsize=16, y=1.02)\n",
    "plt.subplots_adjust(top=0.92)\n",
    "plt.show()\n"
   ]
  },
  {
   "cell_type": "code",
   "execution_count": 33,
   "id": "25e871de",
   "metadata": {},
   "outputs": [
    {
     "name": "stdout",
     "output_type": "stream",
     "text": [
      "63.005867402727965\n",
      "[19.76983377  1.77154364 23.47870128]\n"
     ]
    }
   ],
   "source": [
    "middle_lengths= []\n",
    "amps = np.zeros((27,3))\n",
    "\n",
    "for i, curve in enumerate(centered_curves):\n",
    "    length = np.sum(np.linalg.norm(np.diff(centered_curves[i], axis=0), axis=1))\n",
    "    middle_lengths.append(length)\n",
    "    amp = np.ptp(centered_curves[i], axis=0)\n",
    "    amps[i,:] = amp\n",
    "    #print(f\"{labels[i]} → Mid-length: {length:.2f} mm, Amplitude: {amp}\")\n",
    "print(sum(middle_lengths)/len(middle_lengths))\n",
    "print(np.mean(amps, 0))"
   ]
  },
  {
   "cell_type": "code",
   "execution_count": 40,
   "id": "f2625a1d",
   "metadata": {},
   "outputs": [
    {
     "data": {
      "text/plain": [
       "[2.194448164997575,\n",
       " 2.4679747113019075,\n",
       " 3.105137538216443,\n",
       " 2.2287392610628443,\n",
       " 2.2163066840245795,\n",
       " 3.2817129994869205,\n",
       " 2.442125093430193,\n",
       " 3.1205847356349796,\n",
       " 2.7221760815529765,\n",
       " 2.2984654249753067,\n",
       " 2.821472194973339,\n",
       " 3.1595250565847377,\n",
       " 2.7619492015598266,\n",
       " 3.023062568565216,\n",
       " 2.3998836384524243,\n",
       " 2.429937364550495,\n",
       " 2.7349634681477046,\n",
       " 3.01913719039589,\n",
       " 3.854123569447708,\n",
       " 2.845827821131648,\n",
       " 2.444243948967564,\n",
       " 2.6021563826814864,\n",
       " 2.308783100404601,\n",
       " 3.499455649090721,\n",
       " 2.829227262549003,\n",
       " 2.479577732111184,\n",
       " 3.3453151518423705]"
      ]
     },
     "execution_count": 40,
     "metadata": {},
     "output_type": "execute_result"
    }
   ],
   "source": [
    "x_amplitudes = [x for x, y, z in amps]\n",
    "z_amplitudes = [z for x, y, z in amps]\n",
    "\n",
    "z_x_ratios = [z/x if x > 0 else np.nan for x, z in zip(x_amplitudes, z_amplitudes)]\n",
    "z_l_ratios = [z/l for z,l in zip(middle_lengths, z_amplitudes)]\n",
    "z_l_ratios\n"
   ]
  },
  {
   "cell_type": "markdown",
   "id": "872fc3f8",
   "metadata": {},
   "source": [
    "# Frekvens på Z-akse"
   ]
  },
  {
   "cell_type": "code",
   "execution_count": null,
   "id": "099b11c6",
   "metadata": {},
   "outputs": [],
   "source": [
    "from scipy.fft import fft, fftfreq\n",
    "components = ['X', 'Y', 'Z']\n",
    "plt.figure(figsize=(16, 10))\n",
    "\n",
    "for j, axis in enumerate([0, 1, 2]):  # 0 = X, 1 = Y, 2 = Z\n",
    "    plt.subplot(3, 1, j + 1)\n",
    "    \n",
    "    for i, curve in enumerate(aligned_curves):\n",
    "        signal = curve[:, axis]\n",
    "        N = len(signal)\n",
    "        L = curve_length(curve)\n",
    "        spacing = L / N\n",
    "\n",
    "        F = fft(signal)\n",
    "        freqs_mm = fftfreq(N, d=spacing)\n",
    "        idx = (freqs_mm > 0) & (freqs_mm <= 0.1)  # zoom\n",
    "\n",
    "        spectrum = 2.0 / N * np.abs(F[idx])\n",
    "        plt.plot(freqs_mm[idx], spectrum, label=labels[i], alpha=0.4)\n",
    "\n",
    "    plt.title(f\"Frekvensspektrum af {components[j]}-komponent (0–0.1 [1/mm])\")\n",
    "    plt.xlabel(\"Frekvens [1/mm]\")\n",
    "    plt.ylabel(\"Amplitude\")\n",
    "    plt.grid(True)\n",
    "\n",
    "plt.tight_layout()\n",
    "plt.show()\n"
   ]
  },
  {
   "cell_type": "code",
   "execution_count": null,
   "id": "14bb1308",
   "metadata": {},
   "outputs": [
    {
     "name": "stdout",
     "output_type": "stream",
     "text": [
      "Dominerende frekvens pr. komponent (i [1/mm]):\n",
      "\n",
      "Pipe 01 – Curve 4         → X: 0.0040, Y: 0.0040, Z: 0.0160\n",
      "Pipe 01 – Curve 5         → X: 0.0039, Y: 0.0039, Z: 0.0039\n",
      "Pipe 02 – Curve 3         → X: 0.0044, Y: 0.0044, Z: 0.0044\n",
      "Pipe 02 – Curve 4         → X: 0.0034, Y: 0.0034, Z: 0.0135\n",
      "Pipe 03 – Curve 1         → X: 0.0047, Y: 0.0047, Z: 0.0189\n",
      "Pipe 03 – Curve 4         → X: 0.0057, Y: 0.0057, Z: 0.0057\n",
      "Pipe 04 – Curve 2         → X: 0.0026, Y: 0.0026, Z: 0.0104\n",
      "Pipe 05 – Curve 3         → X: 0.0045, Y: 0.0045, Z: 0.0045\n",
      "Pipe 05 – Curve 4         → X: 0.0047, Y: 0.0047, Z: 0.0047\n",
      "Pipe 05 – Curve 5         → X: 0.0039, Y: 0.0039, Z: 0.0158\n",
      "Pipe 06 – Curve 2         → X: 0.0038, Y: 0.0038, Z: 0.0077\n",
      "Pipe 06 – Curve 4         → X: 0.0038, Y: 0.0038, Z: 0.0038\n",
      "Pipe 06 – Curve 5         → X: 0.0043, Y: 0.0043, Z: 0.0043\n",
      "Pipe 07 – Curve 1         → X: 0.0040, Y: 0.0040, Z: 0.0040\n",
      "Pipe 07 – Curve 2         → X: 0.0039, Y: 0.0039, Z: 0.0154\n",
      "Pipe 07 – Curve 3         → X: 0.0035, Y: 0.0035, Z: 0.0035\n",
      "Pipe 07 – Curve 4         → X: 0.0043, Y: 0.0043, Z: 0.0173\n",
      "Pipe 08 – Curve 1         → X: 0.0046, Y: 0.0046, Z: 0.0046\n",
      "Pipe 08 – Curve 3         → X: 0.0036, Y: 0.0036, Z: 0.0036\n",
      "Pipe 08 – Curve 4         → X: 0.0035, Y: 0.0035, Z: 0.0035\n",
      "Pipe 08 – Curve 5         → X: 0.0041, Y: 0.0041, Z: 0.0164\n",
      "Pipe 09 – Curve 2         → X: 0.0035, Y: 0.0035, Z: 0.0140\n",
      "Pipe 09 – Curve 4         → X: 0.0042, Y: 0.0042, Z: 0.0168\n",
      "Pipe 10 – Curve 1         → X: 0.0048, Y: 0.0048, Z: 0.0048\n",
      "Pipe 10 – Curve 2         → X: 0.0038, Y: 0.0038, Z: 0.0151\n",
      "Pipe 10 – Curve 3         → X: 0.0032, Y: 0.0032, Z: 0.0128\n",
      "Pipe 10 – Curve 4         → X: 0.0044, Y: 0.0044, Z: 0.0175\n"
     ]
    }
   ],
   "source": [
    "print(\"Dominerende frekvens pr. komponent (i [1/mm]):\\n\")\n",
    "\n",
    "for i, curve in enumerate(aligned_curves):\n",
    "    dom_freqs = []\n",
    "    N = len(curve)\n",
    "    L = curve_length(curve)\n",
    "    spacing = L / N\n",
    "\n",
    "    for axis in range(3):\n",
    "        signal = curve[:, axis]\n",
    "        F = fft(signal)\n",
    "        freqs_mm = fftfreq(N, d=spacing)\n",
    "        idx = freqs_mm > 0\n",
    "        dominant_freq = freqs_mm[idx][np.argmax(np.abs(F[idx]))]\n",
    "        dom_freqs.append(dominant_freq)\n",
    "    \n",
    "    print(f\"{labels[i]:<25} → X: {dom_freqs[0]:.4f}, Y: {dom_freqs[1]:.4f}, Z: {dom_freqs[2]:.4f}\")\n"
   ]
  },
  {
   "cell_type": "code",
   "execution_count": null,
   "id": "e4ac6062",
   "metadata": {},
   "outputs": [
    {
     "name": "stdout",
     "output_type": "stream",
     "text": [
      "Kurve                             Frekvens [1/mm]     Bølgelængde [mm]     Kurvelængde [mm]    Antal bølger\n",
      "---------------------------------------------------------------------------------------------------------\n",
      "Pipe 01 – Curve 4                          0.0160                62.39               249.57            4.00\n",
      "Pipe 01 – Curve 5                          0.0039               253.51               253.51            1.00\n",
      "Pipe 02 – Curve 3                          0.0044               226.69               226.69            1.00\n",
      "Pipe 02 – Curve 4                          0.0135                74.19               296.75            4.00\n",
      "Pipe 03 – Curve 1                          0.0189                53.00               211.98            4.00\n",
      "Pipe 03 – Curve 4                          0.0057               175.71               175.71            1.00\n",
      "Pipe 04 – Curve 2                          0.0104                96.35               385.41            4.00\n",
      "Pipe 05 – Curve 3                          0.0045               222.99               222.99            1.00\n",
      "Pipe 05 – Curve 4                          0.0047               212.66               212.66            1.00\n",
      "Pipe 05 – Curve 5                          0.0158                63.30               253.18            4.00\n",
      "Pipe 06 – Curve 2                          0.0077               130.64               261.29            2.00\n",
      "Pipe 06 – Curve 4                          0.0038               261.16               261.16            1.00\n",
      "Pipe 06 – Curve 5                          0.0043               232.53               232.53            1.00\n",
      "Pipe 07 – Curve 1                          0.0040               246.99               246.99            1.00\n",
      "Pipe 07 – Curve 2                          0.0154                64.82               259.30            4.00\n",
      "Pipe 07 – Curve 3                          0.0035               282.04               282.04            1.00\n",
      "Pipe 07 – Curve 4                          0.0173                57.80               231.21            4.00\n",
      "Pipe 08 – Curve 1                          0.0046               215.46               215.46            1.00\n",
      "Pipe 08 – Curve 3                          0.0036               279.47               279.47            1.00\n",
      "Pipe 08 – Curve 4                          0.0035               282.62               282.62            1.00\n",
      "Pipe 08 – Curve 5                          0.0164                61.10               244.41            4.00\n",
      "Pipe 09 – Curve 2                          0.0140                71.42               285.66            4.00\n",
      "Pipe 09 – Curve 4                          0.0168                59.57               238.30            4.00\n",
      "Pipe 10 – Curve 1                          0.0048               210.34               210.34            1.00\n",
      "Pipe 10 – Curve 2                          0.0151                66.26               265.04            4.00\n",
      "Pipe 10 – Curve 3                          0.0128                78.02               312.07            4.00\n",
      "Pipe 10 – Curve 4                          0.0175                57.28               229.11            4.00\n"
     ]
    }
   ],
   "source": [
    "print(f\"{'Kurve':<30} {'Frekvens [1/mm]':>18} {'Bølgelængde [mm]':>20} {'Kurvelængde [mm]':>20} {'Antal bølger':>15}\")\n",
    "print(\"-\" * 105)\n",
    "\n",
    "for i, curve in enumerate(aligned_curves):\n",
    "    z = curve[:, 2]\n",
    "    N = len(z)\n",
    "    L = curve_length(curve)  # total længde i mm\n",
    "    spacing = L / N\n",
    "\n",
    "    Z = fft(z)\n",
    "    freqs = fftfreq(N, d=spacing)\n",
    "    idx = freqs > 0\n",
    "    dominant_freq = freqs[idx][np.argmax(np.abs(Z[idx]))]\n",
    "    wavelength = 1 / dominant_freq if dominant_freq > 0 else float('inf')\n",
    "    num_waves = L / wavelength if wavelength > 0 else 0\n",
    "\n",
    "    print(f\"{labels[i]:<30} {dominant_freq:>18.4f} {wavelength:>20.2f} {L:>20.2f} {num_waves:>15.2f}\")\n"
   ]
  },
  {
   "cell_type": "code",
   "execution_count": null,
   "id": "32672bd3",
   "metadata": {},
   "outputs": [
    {
     "name": "stdout",
     "output_type": "stream",
     "text": [
      "Pipe 01 – Curve 4              → Estimerede bølger i Z: 6.5\n",
      "Pipe 01 – Curve 5              → Estimerede bølger i Z: 5.5\n",
      "Pipe 02 – Curve 3              → Estimerede bølger i Z: 4.5\n",
      "Pipe 02 – Curve 4              → Estimerede bølger i Z: 4.5\n",
      "Pipe 03 – Curve 1              → Estimerede bølger i Z: 4.5\n",
      "Pipe 03 – Curve 4              → Estimerede bølger i Z: 3.5\n",
      "Pipe 04 – Curve 2              → Estimerede bølger i Z: 3.5\n",
      "Pipe 05 – Curve 3              → Estimerede bølger i Z: 3.5\n",
      "Pipe 05 – Curve 4              → Estimerede bølger i Z: 3.5\n",
      "Pipe 05 – Curve 5              → Estimerede bølger i Z: 4.5\n",
      "Pipe 06 – Curve 2              → Estimerede bølger i Z: 3.5\n",
      "Pipe 06 – Curve 4              → Estimerede bølger i Z: 3.5\n",
      "Pipe 06 – Curve 5              → Estimerede bølger i Z: 3.5\n",
      "Pipe 07 – Curve 1              → Estimerede bølger i Z: 3.5\n",
      "Pipe 07 – Curve 2              → Estimerede bølger i Z: 4.5\n",
      "Pipe 07 – Curve 3              → Estimerede bølger i Z: 3.5\n",
      "Pipe 07 – Curve 4              → Estimerede bølger i Z: 3.5\n",
      "Pipe 08 – Curve 1              → Estimerede bølger i Z: 3.5\n",
      "Pipe 08 – Curve 3              → Estimerede bølger i Z: 3.5\n",
      "Pipe 08 – Curve 4              → Estimerede bølger i Z: 4.5\n",
      "Pipe 08 – Curve 5              → Estimerede bølger i Z: 5.5\n",
      "Pipe 09 – Curve 2              → Estimerede bølger i Z: 4.5\n",
      "Pipe 09 – Curve 4              → Estimerede bølger i Z: 5.5\n",
      "Pipe 10 – Curve 1              → Estimerede bølger i Z: 3.5\n",
      "Pipe 10 – Curve 2              → Estimerede bølger i Z: 7.5\n",
      "Pipe 10 – Curve 3              → Estimerede bølger i Z: 5.5\n",
      "Pipe 10 – Curve 4              → Estimerede bølger i Z: 5.5\n"
     ]
    }
   ],
   "source": [
    "from scipy.signal import find_peaks\n",
    "\n",
    "for i, curve in enumerate(aligned_curves):\n",
    "    z = curve[:, 2]\n",
    "    peaks, _ = find_peaks(z)\n",
    "    valleys, _ = find_peaks(-z)\n",
    "    num_waves = (len(peaks) + len(valleys)) / 2\n",
    "\n",
    "    print(f\"{labels[i]:<30} → Estimerede bølger i Z: {num_waves:.1f}\")\n"
   ]
  },
  {
   "cell_type": "markdown",
   "id": "4ce112d9",
   "metadata": {},
   "source": [
    "# Lokal maks og min"
   ]
  },
  {
   "cell_type": "code",
   "execution_count": null,
   "id": "e80b7e64",
   "metadata": {},
   "outputs": [],
   "source": [
    "from scipy.signal import find_peaks\n",
    "\n",
    "fig = plt.figure(figsize=(cols * 3, rows * 3))\n",
    "\n",
    "for i, curve in enumerate(aligned_curves):\n",
    "    x, y, z = curve.T\n",
    "    peaks, _ = find_peaks(z)\n",
    "    valleys, _ = find_peaks(-z)\n",
    "\n",
    "    ax = fig.add_subplot(rows, cols, i + 1, projection='3d')\n",
    "    ax.plot(x, y, z, color='gray', linewidth=1.0)\n",
    "    ax.scatter(x[peaks], y[peaks], z[peaks], color='red', marker='^', label='Toppe')\n",
    "    ax.scatter(x[valleys], y[valleys], z[valleys], color='blue', marker='v', label='Dale')\n",
    "\n",
    "    ax.set_title(labels[i], fontsize=8)\n",
    "    ax.set_xlabel(\"X\", fontsize=6)\n",
    "    ax.set_ylabel(\"Y\", fontsize=6)\n",
    "    ax.set_zlabel(\"Z\", fontsize=6)\n",
    "    ax.tick_params(labelsize=6)\n",
    "    ax.view_init(elev=0, azim=90)\n",
    "\n",
    "# Justering\n",
    "plt.tight_layout()\n",
    "plt.suptitle(\"3D-visning af kurver med Z-toppe og -dale\", fontsize=14, y=1.02)\n",
    "plt.subplots_adjust(top=0.92)\n",
    "plt.show()\n"
   ]
  },
  {
   "cell_type": "markdown",
   "id": "806eb88a",
   "metadata": {},
   "source": [
    "# Gennemsnitskurve"
   ]
  },
  {
   "cell_type": "markdown",
   "id": "e1d0003f",
   "metadata": {},
   "source": [
    "### Lav den"
   ]
  },
  {
   "cell_type": "markdown",
   "id": "7fa3e74c",
   "metadata": {},
   "source": [
    "#### Første reparametrisering"
   ]
  },
  {
   "cell_type": "code",
   "execution_count": null,
   "id": "5fb0a68c",
   "metadata": {},
   "outputs": [],
   "source": [
    "from scipy.interpolate import interp1d\n",
    "\n",
    "def reparameterize_by_arclength(curve, num_points=1000):\n",
    "    # 1. Beregn kumulativ længde\n",
    "    deltas = np.diff(curve, axis=0)\n",
    "    segment_lengths = np.linalg.norm(deltas, axis=1)\n",
    "    cumulative_length = np.insert(np.cumsum(segment_lengths), 0, 0)\n",
    "    total_length = cumulative_length[-1]\n",
    "    s = cumulative_length / total_length  # normaliseret arc length i [0,1]\n",
    "\n",
    "    # 2. Interpolér X, Y, Z som funktion af s\n",
    "    x_interp = interp1d(s, curve[:, 0], kind='linear')\n",
    "    y_interp = interp1d(s, curve[:, 1], kind='linear')\n",
    "    z_interp = interp1d(s, curve[:, 2], kind='linear')\n",
    "\n",
    "    s_uniform = np.linspace(0, 1, num_points)\n",
    "    reparam_curve = np.stack([\n",
    "        x_interp(s_uniform),\n",
    "        y_interp(s_uniform),\n",
    "        z_interp(s_uniform)\n",
    "    ], axis=1)\n",
    "\n",
    "    return reparam_curve\n",
    "# Reparameteriser alle kurver efter arc length\n",
    "reparam_curves = [reparameterize_by_arclength(c, num_points=1000) for c in aligned_curves]\n",
    "\n",
    "# Brug X fra den første kurve som reference\n",
    "ref_x = reparam_curves[0][:, 0]\n",
    "\n",
    "# Udtræk Y og Z fra alle kurver og tag gennemsnit\n",
    "X_all = np.stack([c[:, 1] for c in reparam_curves])\n",
    "Y_all = np.stack([c[:, 1] for c in reparam_curves])\n",
    "Z_all = np.stack([c[:, 2] for c in reparam_curves])\n",
    "\n",
    "mean_x = np.mean(X_all, axis=0)\n",
    "mean_y = np.mean(Y_all, axis=0)\n",
    "mean_z = np.mean(Z_all, axis=0)\n",
    "\n",
    "# Saml mean-kurven\n",
    "mean_curve = np.stack([mean_x, mean_y, mean_z], axis=1)\n"
   ]
  },
  {
   "cell_type": "markdown",
   "id": "ac8fd1d1",
   "metadata": {},
   "source": [
    "#### Anden reparametrisering"
   ]
  },
  {
   "cell_type": "code",
   "execution_count": null,
   "id": "17fda967",
   "metadata": {},
   "outputs": [],
   "source": [
    "import numpy as np\n",
    "from scipy.interpolate import interp1d\n",
    "\n",
    "def reparameterize_by_arclength(curve, num_points=1000):\n",
    "    deltas = np.diff(curve, axis=0)\n",
    "    segment_lengths = np.linalg.norm(deltas, axis=1)\n",
    "    cumulative_length = np.insert(np.cumsum(segment_lengths), 0, 0)\n",
    "    total_length = cumulative_length[-1]\n",
    "    s = cumulative_length / total_length  # normaliseret parameter [0,1]\n",
    "\n",
    "    x_interp = interp1d(s, curve[:, 0], kind='linear')\n",
    "    y_interp = interp1d(s, curve[:, 1], kind='linear')\n",
    "    z_interp = interp1d(s, curve[:, 2], kind='linear')\n",
    "\n",
    "    s_uniform = np.linspace(0, 1, num_points)\n",
    "    reparam_curve = np.stack([\n",
    "        x_interp(s_uniform),\n",
    "        y_interp(s_uniform),\n",
    "        z_interp(s_uniform)\n",
    "    ], axis=1)\n",
    "    \n",
    "    return reparam_curve\n",
    "\n",
    "def compute_mean_curve(curves, num_points=1000, average_x=True):\n",
    "    \"\"\"\n",
    "    Beregn en mean-kurve ud fra en liste af 3D-kurver.\n",
    "    \n",
    "    Parametre:\n",
    "        curves: list of (N,3) numpy arrays\n",
    "        num_points: antal punkter på outputkurver\n",
    "        average_x: hvis False, bruges X fra første kurve som reference\n",
    "    \n",
    "    Returnerer:\n",
    "        mean_curve: (num_points, 3) numpy array\n",
    "    \"\"\"\n",
    "\n",
    "    # Reparameterisér alle kurver\n",
    "    reparam_curves = [reparameterize_by_arclength(c, num_points=num_points) for c in curves]\n",
    "\n",
    "    # Udtræk koordinater\n",
    "    X_all = np.stack([c[:, 0] for c in reparam_curves])\n",
    "    Y_all = np.stack([c[:, 1] for c in reparam_curves])\n",
    "    Z_all = np.stack([c[:, 2] for c in reparam_curves])\n",
    "\n",
    "    # Beregn mean\n",
    "    if average_x:\n",
    "        mean_x = np.mean(X_all, axis=0)\n",
    "    else:\n",
    "        mean_x = reparam_curves[0][:, 0]  # referencekurvens X\n",
    "\n",
    "    mean_y = np.mean(Y_all, axis=0)\n",
    "    mean_z = np.mean(Z_all, axis=0)\n",
    "\n",
    "    # Saml mean-kurven\n",
    "    mean_curve = np.stack([mean_x, mean_y, mean_z], axis=1)\n",
    "\n",
    "    return mean_curve\n",
    "\n",
    "# curves er din liste af alignede kurver, fx: aligned_curves eller rotated_curves\n",
    "mean_curve = compute_mean_curve(curves=aligned_curves, num_points=1000, average_x=True)\n"
   ]
  },
  {
   "cell_type": "markdown",
   "id": "db0a0c12",
   "metadata": {},
   "source": [
    "#### Flip dem som er spejlvendt"
   ]
  },
  {
   "cell_type": "code",
   "execution_count": null,
   "id": "ad308c56",
   "metadata": {},
   "outputs": [],
   "source": [
    "\n",
    "# - aligned_curves: dine kurver\n",
    "# - flip_indices: de kurver der skal \"vendes om\" (reverseres)\n",
    "flip_indices = [1, 2, 3, 5, 6, 9, 13, 21, 23, 25, 26]\n",
    "final_curves = []\n",
    "\n",
    "for i, curve in enumerate(aligned_curves):\n",
    "    if i in flip_indices:\n",
    "        flipped = curve[::-1]  # vend rækkefølgen af punkterne\n",
    "        final_curves.append(flipped)\n",
    "        #print(f\"🔁 Vendte rækkefølgen på kurve {i}\")\n",
    "    else:\n",
    "        final_curves.append(curve)\n",
    "\n"
   ]
  },
  {
   "cell_type": "code",
   "execution_count": null,
   "id": "5e4927ef",
   "metadata": {},
   "outputs": [],
   "source": [
    "# curves: Liste af (1000 x 3) arrays — allerede resamplet!\n",
    "# Brug X fra den første kurve som reference\n",
    "ref_x = final_curves[0][:, 0]\n",
    "\n",
    "# Udtræk Y og Z fra alle aligned_curves\n",
    "X_all = np.stack([curve[:, 0] for curve in final_curves])\n",
    "Y_all = np.stack([curve[:, 1] for curve in final_curves])\n",
    "Z_all = np.stack([curve[:, 2] for curve in final_curves])\n",
    "\n",
    "# Beregn gennemsnit for hvert punkt langs kurven\n",
    "mean_x = np.mean(X_all, axis=0)\n",
    "mean_y = np.mean(Y_all, axis=0)\n",
    "mean_z = np.mean(Z_all, axis=0)\n",
    "\n",
    "# Saml den endelige mean-kurve\n",
    "mean_curve = np.stack([mean_x, mean_y, mean_z], axis=1)\n"
   ]
  },
  {
   "cell_type": "code",
   "execution_count": null,
   "id": "4fa01ea8",
   "metadata": {},
   "outputs": [],
   "source": [
    "%matplotlib qt"
   ]
  },
  {
   "cell_type": "markdown",
   "id": "fb8d53c2",
   "metadata": {},
   "source": [
    "### Suplots"
   ]
  },
  {
   "cell_type": "code",
   "execution_count": null,
   "id": "6d684a02",
   "metadata": {},
   "outputs": [
    {
     "name": "stderr",
     "output_type": "stream",
     "text": [
      "C:\\Users\\lucca\\AppData\\Local\\Temp\\ipykernel_27376\\1929327773.py:8: MatplotlibDeprecationWarning: The get_cmap function was deprecated in Matplotlib 3.7 and will be removed in 3.11. Use ``matplotlib.colormaps[name]`` or ``matplotlib.colormaps.get_cmap()`` or ``pyplot.get_cmap()`` instead.\n",
      "  cmap = cm.get_cmap('plasma', 40)  # alternativt 'tab10', 'Set1', 'turbo'  # eller 'nipy_spectral', 'viridis' osv.\n"
     ]
    }
   ],
   "source": [
    "import matplotlib.cm as cm\n",
    "# Plot-indstillinger\n",
    "n = len(aligned_curves)\n",
    "rows, cols = 4, 7  # Justér hvis du har flere/færre kurver\n",
    "\n",
    "fig = plt.figure(figsize=(cols * 3, rows * 3))\n",
    "n = len(aligned_curves)\n",
    "cmap = cm.get_cmap('plasma', 40)  # alternativt 'tab10', 'Set1', 'turbo'  # eller 'nipy_spectral', 'viridis' osv.\n",
    "\n",
    "for i, curve in enumerate(aligned_curves):\n",
    "    ax = fig.add_subplot(rows, cols, i + 1, projection='3d')\n",
    "    ax.plot(*curve.T, color = cmap(i), linewidth=1.0, alpha=0.7)\n",
    "    ax.plot(*mean_curve.T, color='black', linewidth=2.0)\n",
    "    \n",
    "    ax.set_title(labels[i], fontsize=8)\n",
    "    ax.tick_params(labelsize=6)\n",
    "    ax.set_xlabel(\"X\", fontsize=6)\n",
    "    ax.set_ylabel(\"Y\", fontsize=6)\n",
    "    ax.set_zlabel(\"Z\", fontsize=6)\n",
    "    ax.view_init(elev=0, azim=270)\n",
    "\n",
    "plt.tight_layout()\n",
    "plt.suptitle(\"Kurver reparameteriseret efter arc length – med gennemsnit\", fontsize=14, y=1.02)\n",
    "plt.subplots_adjust(top=0.92)\n",
    "plt.show()\n"
   ]
  },
  {
   "cell_type": "markdown",
   "id": "29b693aa",
   "metadata": {},
   "source": [
    "### Alle i et"
   ]
  },
  {
   "cell_type": "code",
   "execution_count": null,
   "id": "509cdd50",
   "metadata": {},
   "outputs": [],
   "source": [
    "# Brug dine egne kurver i stedet for dummy data\n",
    "\n",
    "# Plot alle rigtige kurver + mean\n",
    "fig = plt.figure(figsize=(10, 6))\n",
    "ax = fig.add_subplot(111, projection='3d')\n",
    "\n",
    "for c in aligned_curves:\n",
    "    ax.plot(c[:, 0], c[:, 1], c[:, 2], color='gray', alpha=0.3)\n",
    "\n",
    "ax.plot(mean_curve[:, 0], mean_curve[:, 1], mean_curve[:, 2], color='black', linewidth=2, label='Mean Suture')\n",
    "ax.set_xlabel(\"X\")\n",
    "ax.set_ylabel(\"Y\")\n",
    "ax.set_zlabel(\"Z\")\n",
    "ax.legend(prop={'size': 15})\n",
    "plt.tight_layout()\n",
    "plt.show()\n",
    "\n"
   ]
  },
  {
   "cell_type": "markdown",
   "id": "a21b631c",
   "metadata": {},
   "source": [
    "### Stat"
   ]
  },
  {
   "cell_type": "code",
   "execution_count": 46,
   "id": "223260bf",
   "metadata": {},
   "outputs": [
    {
     "name": "stdout",
     "output_type": "stream",
     "text": [
      "\n",
      "Statistik for mean-kurven:\n",
      "\n",
      "  Coordinate       Mean   Variance  Std Deviation\n",
      "           X  -0.497077 993.012331      31.512098\n",
      "           Y   0.714500  54.752931       7.399522\n",
      "           Z  -0.518691  84.609038       9.198317\n",
      "Total Length 213.763215        NaN            NaN\n"
     ]
    },
    {
     "name": "stderr",
     "output_type": "stream",
     "text": [
      "C:\\Users\\lucca\\AppData\\Local\\Temp\\ipykernel_27376\\42327952.py:18: FutureWarning: The behavior of DataFrame concatenation with empty or all-NA entries is deprecated. In a future version, this will no longer exclude empty or all-NA columns when determining the result dtypes. To retain the old behavior, exclude the relevant entries before the concat operation.\n",
      "  mean_stats.loc[len(mean_stats)] = [\"Total Length\", mean_total_length, None, None]\n"
     ]
    }
   ],
   "source": [
    "import pandas as pd\n",
    "import numpy as np\n",
    "\n",
    "# Statistik for mean-kurven\n",
    "mean_diffs = np.diff(mean_curve, axis=0)\n",
    "mean_lengths = np.linalg.norm(mean_diffs, axis=1)\n",
    "mean_total_length = np.sum(mean_lengths)\n",
    "mean_var = np.var(mean_curve, axis=0,ddof=1)\n",
    "mean_std = np.std(mean_curve, axis=0,ddof=1)\n",
    "\n",
    "# Saml i DataFrame\n",
    "mean_stats = pd.DataFrame({\n",
    "    \"Coordinate\": [\"X\", \"Y\", \"Z\"],\n",
    "    \"Mean\": np.mean(mean_curve, axis=0),\n",
    "    \"Variance\": mean_var,\n",
    "    \"Std Deviation\": mean_std\n",
    "})\n",
    "mean_stats.loc[len(mean_stats)] = [\"Total Length\", mean_total_length, None, None]\n",
    "\n",
    "# Print pænt\n",
    "print(\"\\nStatistik for mean-kurven:\\n\")\n",
    "print(mean_stats.to_string(index=False))\n"
   ]
  },
  {
   "cell_type": "code",
   "execution_count": null,
   "id": "d12494a2",
   "metadata": {},
   "outputs": [
    {
     "name": "stdout",
     "output_type": "stream",
     "text": [
      "1000\n"
     ]
    }
   ],
   "source": [
    "# Brug mean/std for X, Y og Z\n",
    "X_all = np.stack([c[:, 0] for c in aligned_curves])\n",
    "mean_x = np.mean(X_all, axis=0)\n",
    "mean_y = np.mean(Y_all, axis=0)\n",
    "mean_z = np.mean(Z_all, axis=0)\n",
    "\n",
    "std_x = np.std(X_all, axis=0, ddof=1)\n",
    "std_y = np.std(Y_all, axis=0, ddof=1)\n",
    "std_z = np.std(Z_all, axis=0, ddof=1)\n",
    "\n",
    "arc = np.linspace(0, 1, mean_x.shape[0])\n",
    "\n",
    "# Plot X, Y, Z mean ± std\n",
    "fig, axs = plt.subplots(3, 1, figsize=(10, 9), sharex=True)\n",
    "\n",
    "# X\n",
    "axs[0].plot(arc, mean_x, color='black', label='Mean X')\n",
    "axs[0].fill_between(arc, mean_x - std_x, mean_x + std_x, color='orchid', alpha=0.3, label='±1 Std')\n",
    "axs[0].set_ylabel(\"X\")\n",
    "axs[0].set_title(\"Mean ± Std Deviation\")\n",
    "axs[0].grid(True)\n",
    "axs[0].legend()\n",
    "\n",
    "# Y\n",
    "axs[1].plot(arc, mean_y, color='black', label='Mean Y')\n",
    "axs[1].fill_between(arc, mean_y - std_y, mean_y + std_y, color='orchid', alpha=0.3, label='±1 Std')\n",
    "axs[1].set_ylabel(\"Y\")\n",
    "axs[1].grid(True)\n",
    "axs[1].legend()\n",
    "\n",
    "# Z\n",
    "axs[2].plot(arc, mean_z, color='black', label='Mean Z')\n",
    "axs[2].fill_between(arc, mean_z - std_z, mean_z + std_z, color='orchid', alpha=0.3, label='±1 Std')\n",
    "axs[2].set_ylabel(\"Z\")\n",
    "axs[2].set_xlabel(\"Arc Length Position\")\n",
    "axs[2].grid(True)\n",
    "axs[2].legend()\n",
    "\n",
    "plt.tight_layout()\n",
    "plt.show()\n"
   ]
  },
  {
   "cell_type": "markdown",
   "id": "aa2c5bd0",
   "metadata": {},
   "source": [
    "### Error fra gennemsnitskurve"
   ]
  },
  {
   "cell_type": "code",
   "execution_count": 15,
   "id": "ab8af568",
   "metadata": {},
   "outputs": [
    {
     "name": "stdout",
     "output_type": "stream",
     "text": [
      "Pipe 01 – Curve 4         → RMS-fejl til mean: 7.0321\n",
      "Pipe 01 – Curve 5         → RMS-fejl til mean: 5.7437\n",
      "Pipe 02 – Curve 3         → RMS-fejl til mean: 5.0970\n",
      "Pipe 02 – Curve 4         → RMS-fejl til mean: 10.8473\n",
      "Pipe 03 – Curve 1         → RMS-fejl til mean: 9.1504\n",
      "Pipe 03 – Curve 4         → RMS-fejl til mean: 7.5075\n",
      "Pipe 04 – Curve 2         → RMS-fejl til mean: 17.7979\n",
      "Pipe 05 – Curve 3         → RMS-fejl til mean: 4.6000\n",
      "Pipe 05 – Curve 4         → RMS-fejl til mean: 4.3932\n",
      "Pipe 05 – Curve 5         → RMS-fejl til mean: 5.9452\n",
      "Pipe 06 – Curve 2         → RMS-fejl til mean: 9.1767\n",
      "Pipe 06 – Curve 4         → RMS-fejl til mean: 12.0541\n",
      "Pipe 06 – Curve 5         → RMS-fejl til mean: 4.8188\n",
      "Pipe 07 – Curve 1         → RMS-fejl til mean: 8.6903\n",
      "Pipe 07 – Curve 2         → RMS-fejl til mean: 4.0473\n",
      "Pipe 07 – Curve 3         → RMS-fejl til mean: 4.5522\n",
      "Pipe 07 – Curve 4         → RMS-fejl til mean: 9.4874\n",
      "Pipe 08 – Curve 1         → RMS-fejl til mean: 2.6980\n",
      "Pipe 08 – Curve 3         → RMS-fejl til mean: 13.5886\n",
      "Pipe 08 – Curve 4         → RMS-fejl til mean: 3.3507\n",
      "Pipe 08 – Curve 5         → RMS-fejl til mean: 6.0177\n",
      "Pipe 09 – Curve 2         → RMS-fejl til mean: 5.6628\n",
      "Pipe 09 – Curve 4         → RMS-fejl til mean: 8.3171\n",
      "Pipe 10 – Curve 1         → RMS-fejl til mean: 6.5926\n",
      "Pipe 10 – Curve 2         → RMS-fejl til mean: 4.6921\n",
      "Pipe 10 – Curve 3         → RMS-fejl til mean: 6.5415\n",
      "Pipe 10 – Curve 4         → RMS-fejl til mean: 7.8505\n"
     ]
    }
   ],
   "source": [
    "rms_errors = []\n",
    "\n",
    "for c in final_curves:\n",
    "    diff = c - mean_curve  # forskel i alle koordinater\n",
    "    rms = np.sqrt(np.mean(np.sum(diff**2, axis=1)))  # ||v||^2 → mean → sqrt\n",
    "    rms_errors.append(rms)\n",
    "for i, rms in enumerate(rms_errors):\n",
    "    print(f\"{labels[i]:<25} → RMS-fejl til mean: {rms:.4f}\")\n"
   ]
  },
  {
   "cell_type": "markdown",
   "id": "ffa1e444",
   "metadata": {},
   "source": [
    "### Bedste tre og værste tre"
   ]
  },
  {
   "cell_type": "code",
   "execution_count": null,
   "id": "057d9c13",
   "metadata": {},
   "outputs": [],
   "source": [
    "import numpy as np\n",
    "import matplotlib.pyplot as plt\n",
    "from mpl_toolkits.mplot3d import Axes3D\n",
    "\n",
    "\n",
    "# Sort and select best and worst\n",
    "indexed_curves = list(zip(labels, aligned_curves, rms_errors))\n",
    "sorted_curves = sorted(indexed_curves, key=lambda x: x[2])\n",
    "best = sorted_curves[:3]\n",
    "worst = sorted_curves[-3:]\n",
    "\n",
    "# Plot in 3D\n",
    "fig = plt.figure(figsize=(15, 10))\n",
    "titles = [\"Best 1\", \"Best 2\", \"Best 3\", \"Worst 3\", \"Worst 2\", \"Worst 1\"]\n",
    "\n",
    "for i, (label, curve, _) in enumerate(best + worst[::-1]):\n",
    "    ax = fig.add_subplot(2, 3, i+1, projection='3d')\n",
    "    ax.plot(curve[:, 0], curve[:, 1], curve[:, 2], label='Original', linestyle='--', color = \"orchid\")\n",
    "    ax.plot(mean_curve[:, 0], mean_curve[:, 1], mean_curve[:, 2], color='black', label='Mean')\n",
    "    ax.set_title(f\"{titles[i]}: {label}\", fontsize=15)\n",
    "    ax.set_xticks([]); ax.set_yticks([]); ax.set_zticks([])\n",
    "    ax.set_xlabel(\"X\", fontsize=7)\n",
    "    ax.set_ylabel(\"Y\", fontsize=7)\n",
    "    ax.set_zlabel(\"Z\", fontsize=7)\n",
    "    #ax.view_init(elev=30, azim=45)\n",
    "    ax.view_init(elev=0, azim=90)\n",
    "    ax.grid(True)\n",
    "\n",
    "plt.tight_layout(pad=0.5)\n",
    "plt.subplots_adjust(top=0.88)\n",
    "plt.show()\n"
   ]
  },
  {
   "cell_type": "markdown",
   "id": "e13fee38",
   "metadata": {},
   "source": [
    "# Næste"
   ]
  }
 ],
 "metadata": {
  "kernelspec": {
   "display_name": "fagprojekt",
   "language": "python",
   "name": "python3"
  },
  "language_info": {
   "codemirror_mode": {
    "name": "ipython",
    "version": 3
   },
   "file_extension": ".py",
   "mimetype": "text/x-python",
   "name": "python",
   "nbconvert_exporter": "python",
   "pygments_lexer": "ipython3",
   "version": "3.13.2"
  }
 },
 "nbformat": 4,
 "nbformat_minor": 5
}
