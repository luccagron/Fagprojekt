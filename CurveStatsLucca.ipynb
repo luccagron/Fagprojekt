{
 "cells": [
  {
   "cell_type": "markdown",
   "id": "ee3c7960",
   "metadata": {},
   "source": [
    "# Curve Statistics and Characterization"
   ]
  },
  {
   "cell_type": "code",
   "execution_count": 5,
   "id": "be8b0896",
   "metadata": {},
   "outputs": [],
   "source": [
    "# imports\n",
    "import numpy as np\n",
    "import matplotlib.pyplot as plt\n",
    "import glob\n",
    "from scipy import signal\n",
    "\n",
    "# load curves \n",
    "paths = glob.glob(\"/Users/juliebuchnielsen/Desktop/01666/AlignedCurves/Curve*_aligned.csv\")\n",
    "AllCurves = [np.loadtxt(path, delimiter=\",\") for path in paths]"
   ]
  },
  {
   "cell_type": "code",
   "execution_count": 6,
   "id": "23ec5b7f",
   "metadata": {},
   "outputs": [],
   "source": [
    "%matplotlib qt\n",
    "\n",
    "# plot all curves\n",
    "fig = plt.figure(figsize=(12, 8))\n",
    "ax = fig.add_subplot(projection=\"3d\")\n",
    "\n",
    "for i, curve in enumerate(AllCurves):\n",
    "    ax.plot(*curve.T, label=f\"Curve{i+1}\")\n",
    "\n",
    "ax.set_title(\"Alle alignede kurver (hver sin farve)\", fontsize=14)\n",
    "ax.set_xlabel(\"X\")\n",
    "ax.set_ylabel(\"Y\")\n",
    "ax.set_zlabel(\"Z\")\n",
    "ax.legend(loc='upper right', bbox_to_anchor=(1.3, 1.0), fontsize='small')\n",
    "plt.show()"
   ]
  },
  {
   "cell_type": "markdown",
   "id": "994a146f",
   "metadata": {},
   "source": [
    "## Characterization"
   ]
  },
  {
   "cell_type": "code",
   "execution_count": 8,
   "id": "184f88d6",
   "metadata": {},
   "outputs": [],
   "source": [
    "# curve length\n",
    "\n",
    "def curve_length(curve):\n",
    "    \"\"\"\n",
    "    Compute the length of a 3D curve.\n",
    "    \n",
    "    Input:\n",
    "    - curve [N x 3]: numpy array with 3d curve\n",
    "\n",
    "    Output:\n",
    "    - length (float): length of the given curve\n",
    "\n",
    "    \"\"\"\n",
    "    # compute the displacement between each point:\n",
    "    dis = np.diff(curve, axis=0)\n",
    "\n",
    "    # compute sum of euclidian norms\n",
    "    length = np.sum(np.linalg.norm(dis, axis=1))\n",
    "    return length\n",
    "\n",
    "def tortuosity(curve):\n",
    "    \"\"\"\n",
    "    Compute the Tortuosity of a curve\n",
    "    \"\"\"\n",
    "    euclid_dist = np.linalg.norm(curve[-1, :] - curve[0, :])\n",
    "    T = curve_length(curve) / euclid_dist\n",
    "    return T\n",
    "\n",
    "Lengths = []\n",
    "Tortuosity = []\n",
    "\n",
    "for curve in AllCurves:\n",
    "    # curve length\n",
    "    Lengths.append(curve_length(curve))\n",
    "\n",
    "    # curve tortuosity\n",
    "    Tortuosity.append(tortuosity(curve))\n",
    "\n",
    "\n",
    "# plot histogram\n",
    "\n",
    "# plot length/Tortuosity"
   ]
  },
  {
   "cell_type": "code",
   "execution_count": null,
   "id": "d1ca592a",
   "metadata": {},
   "outputs": [
    {
     "name": "stdout",
     "output_type": "stream",
     "text": [
      "No. oscillations: 17\n"
     ]
    }
   ],
   "source": [
    "# Signal analysis\n",
    "\n",
    "# den her funktion er super sej, men ikke særlig stabil\n",
    "def signal_oscillations(curve):\n",
    "    \"\"\"\n",
    "    Compute the oscillations along the main axis of the data. \n",
    "    \"\"\"\n",
    "    centered = curve - curve.mean(axis=0)\n",
    "    U, S, Vt = np.linalg.svd(centered)\n",
    "    main_axis = Vt[0]\n",
    "    \n",
    "    t = centered @ main_axis\n",
    "    projection = np.outer(t, main_axis)\n",
    "    d = np.linalg.norm(centered - projection, axis=1) # orthogonal distance to main axis.\n",
    "\n",
    "    peaks, _ = signal.find_peaks(d)\n",
    "    troughs, _ = signal.find_peaks(-d)\n",
    "    return len(peaks) + len(troughs), peaks, troughs, main_axis, d\n",
    "\n",
    "curve_no = 1\n",
    "curve = AllCurves[curve_no]\n",
    "origin = curve.mean(axis=0)\n",
    "axis_length = np.linalg.norm(curve.ptp(axis=0)) * 0.5\n",
    "osc, peaks, troughs, axis, deviations = signal_oscillations(curve)\n",
    "\n",
    "# amplitude\n",
    "amp = np.max(deviations)\n",
    "\n",
    "# plots\n",
    "print(f\"No. oscillations: {osc}\")\n",
    "\n",
    "fig = plt.figure(figsize=(12, 8))\n",
    "ax = fig.add_subplot(111, projection=\"3d\")\n",
    "\n",
    "ax.plot(*curve.T, color='black', label=f'Curve{curve_no}')\n",
    "ax.scatter(*curve[peaks].T, color='red', label='Peaks', s=50)\n",
    "ax.scatter(*curve[troughs].T, color='blue', label='Throughs', s=50)\n",
    "ax.quiver(*origin, *(axis * axis_length), color='green', linewidth=2, arrow_length_ratio=0.1, label='Hovedakse')\n",
    "\n",
    "ax.set_title(\"Kurve med identificerede peaks og throughs\")\n",
    "ax.legend()\n",
    "plt.tight_layout()\n",
    "plt.show()"
   ]
  },
  {
   "cell_type": "code",
   "execution_count": 23,
   "id": "23f30928",
   "metadata": {},
   "outputs": [],
   "source": [
    "plt.figure(figsize=(6, 3))\n",
    "plt.plot(deviations, color='black')\n",
    "plt.scatter(peaks, deviations[peaks], color='red')\n",
    "plt.scatter(troughs, deviations[troughs], color='blue')\n",
    "plt.title(\"Deviation fra hovedakse\")\n",
    "plt.xlabel(\"Punkt langs kurven\")\n",
    "plt.ylabel(\"Afstand fra akse\")\n",
    "plt.tight_layout()\n",
    "plt.show()\n"
   ]
  },
  {
   "cell_type": "code",
   "execution_count": null,
   "id": "a22d16da",
   "metadata": {},
   "outputs": [],
   "source": [
    "# frequency"
   ]
  },
  {
   "cell_type": "code",
   "execution_count": null,
   "id": "9d9807d7",
   "metadata": {},
   "outputs": [],
   "source": [
    "# variance between curves."
   ]
  }
 ],
 "metadata": {
  "language_info": {
   "name": "python"
  }
 },
 "nbformat": 4,
 "nbformat_minor": 5
}
